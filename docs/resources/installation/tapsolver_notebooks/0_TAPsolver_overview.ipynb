{
 "cells": [
  {
   "cell_type": "markdown",
   "id": "7df52d56",
   "metadata": {},
   "source": [
    "# Generating Experimental Data"
   ]
  },
  {
   "cell_type": "markdown",
   "id": "1f85e53d",
   "metadata": {},
   "source": [
    "First, let's import tapsolver"
   ]
  },
  {
   "cell_type": "code",
   "execution_count": 1,
   "id": "507d8af3",
   "metadata": {},
   "outputs": [],
   "source": [
    "from tapsolver import *"
   ]
  },
  {
   "cell_type": "markdown",
   "id": "775034f2",
   "metadata": {},
   "source": [
    "Our initial goal is to generate the TAPobject, which will consist of the reactor, gasses and adspecies, and mechanism. First, the reactor can be specified with"
   ]
  },
  {
   "cell_type": "code",
   "execution_count": 2,
   "id": "74ba053a",
   "metadata": {},
   "outputs": [],
   "source": [
    "new_reactor = reactor()\n",
    "\n",
    "## Additional options that may be necessary\n",
    "# new_reactor.zone_lengths = {0:0.5,1:,0.1,2:0.5}\n",
    "# new_reactor.zone_voids = {0:0.4,1:0.4,2:0.4}\n",
    "# new_reactor.reactor_radius = 0.19"
   ]
  },
  {
   "cell_type": "markdown",
   "id": "fce1a9e9",
   "metadata": {},
   "source": [
    "Additional parameters are specified, but we will be using the default parameters for the examples. Next, we need to define the reactor species object"
   ]
  },
  {
   "cell_type": "code",
   "execution_count": 3,
   "id": "b879e936",
   "metadata": {},
   "outputs": [],
   "source": [
    "species = reactor_species()\n",
    "\n",
    "## Additional options that may be necessary\n",
    "#species.inert_diffusion = 25.04\n",
    "#species.catalyst_diffusion = 25.04\n",
    "#species.reference_temperature = 700\n",
    "#species.reference_mass = 40\n",
    "#species.temperature = 833\n",
    "#species.advection = 0"
   ]
  },
  {
   "cell_type": "markdown",
   "id": "c290106e",
   "metadata": {},
   "source": [
    "Now that the object that will contain all reactive and inert gasses, as well as adspecies, has been defined, we can begin adding them"
   ]
  },
  {
   "cell_type": "code",
   "execution_count": 4,
   "id": "65409b88",
   "metadata": {},
   "outputs": [],
   "source": [
    "# Define the gasses\n",
    "CO = define_gas()\n",
    "O2 = define_gas()\n",
    "CO2 = define_gas()\n",
    "\n",
    "CO.mass = 28\n",
    "CO.intensity = 1\n",
    "CO.noise = 0.0\n",
    "CO.sigma = 0.0\n",
    "CO.delay = 0.1\n",
    "\n",
    "O2.mass = 32\n",
    "O2.intensity = 1\n",
    "O2.noise = 0.0\n",
    "\n",
    "CO2.mass = 44\n",
    "CO2.intensity = 0\n",
    "CO2.noise = 0.0\n",
    "\n",
    "species.add_gas('CO',CO)\n",
    "species.add_gas('O2',O2)\n",
    "species.add_gas('CO2',CO2)"
   ]
  },
  {
   "cell_type": "markdown",
   "id": "401d427f",
   "metadata": {},
   "source": [
    "Last of the gasses, the inert gas is included in the system"
   ]
  },
  {
   "cell_type": "code",
   "execution_count": 5,
   "id": "44eb343b",
   "metadata": {},
   "outputs": [],
   "source": [
    "Ar = define_gas()\n",
    "\n",
    "Ar.mass = 40\n",
    "Ar.intensity = 1\n",
    "Ar.noise = 0.0\n",
    "\n",
    "species.add_inert_gas('Ar',Ar)"
   ]
  },
  {
   "cell_type": "markdown",
   "id": "b441f25a",
   "metadata": {},
   "source": [
    "Next, we add our surface species, which will be in the catalyst zone"
   ]
  },
  {
   "cell_type": "code",
   "execution_count": 6,
   "id": "fa8eb235",
   "metadata": {},
   "outputs": [],
   "source": [
    "s = define_adspecies()\n",
    "s.concentration = 0\n",
    "species.add_adspecies('CO*',s)\n",
    "\n",
    "s = define_adspecies()\n",
    "s.concentration = 0\n",
    "species.add_adspecies('O*',s)\n",
    "\n",
    "s = define_adspecies()\n",
    "s.concentration = 100\n",
    "species.add_adspecies('*',s)"
   ]
  },
  {
   "cell_type": "markdown",
   "id": "86618fcf",
   "metadata": {},
   "source": [
    "Now that the adspecies and gasses have been defined, we can begin defining the elementary processes and the rate constants. First we make our mechanism object"
   ]
  },
  {
   "cell_type": "code",
   "execution_count": 7,
   "id": "87b91a35",
   "metadata": {},
   "outputs": [],
   "source": [
    "mech = mechanism()"
   ]
  },
  {
   "cell_type": "markdown",
   "id": "c63a9862",
   "metadata": {},
   "source": [
    "Now we can add the processes to the mechanism object with"
   ]
  },
  {
   "cell_type": "code",
   "execution_count": 8,
   "id": "4b8a82d7",
   "metadata": {},
   "outputs": [],
   "source": [
    "mech.elementary_processes[0] = elementary_process('CO + * <-> CO*')\n",
    "mech.elementary_processes[0].forward.k = 1\n",
    "mech.elementary_processes[0].backward.k = 1\n",
    "\n",
    "mech.elementary_processes[1] = elementary_process('O2 + 2* <-> 2O*')\n",
    "mech.elementary_processes[1].forward.k = 1\n",
    "mech.elementary_processes[1].backward.k = 1\n",
    "\n",
    "mech.elementary_processes[2] = elementary_process('CO* + O* <-> CO2 + 2*')\n",
    "mech.elementary_processes[2].forward.k = 1\n",
    "mech.elementary_processes[2].backward.k = 0"
   ]
  },
  {
   "cell_type": "markdown",
   "id": "691bfb81",
   "metadata": {},
   "source": [
    "The last step is to actually generate the mechanism object with all relevant processes and parameters"
   ]
  },
  {
   "cell_type": "code",
   "execution_count": 9,
   "id": "1a100a63",
   "metadata": {},
   "outputs": [
    {
     "data": {
      "text/plain": [
       "<tapsolver.mechanism.mechanism at 0x7ff387580dc0>"
      ]
     },
     "execution_count": 9,
     "metadata": {},
     "output_type": "execute_result"
    }
   ],
   "source": [
    "for j in mech.elementary_processes:\n",
    "\tmech.elementary_processes[j].forward.use = 'k'\n",
    "\ttry:\n",
    "\t\tmech.elementary_processes[j].backward.use = 'k'\n",
    "\texcept:\n",
    "\t\tpass\n",
    "\n",
    "mechanism_constructor(mech)"
   ]
  },
  {
   "cell_type": "markdown",
   "id": "d5f219da",
   "metadata": {},
   "source": [
    "Finally, we will define the TAPobject and add all of the components we just generated"
   ]
  },
  {
   "cell_type": "code",
   "execution_count": 10,
   "id": "57f2c5b6",
   "metadata": {},
   "outputs": [],
   "source": [
    "simulation = TAPobject()\n",
    "simulation.reactor = new_reactor\n",
    "simulation.reactor_species = species\n",
    "simulation.mechanism = mech\n",
    "\n",
    "simulation.output_name = 'co_oxidation_example'"
   ]
  },
  {
   "cell_type": "markdown",
   "id": "4b30082d",
   "metadata": {},
   "source": [
    "Now we can ran a forward simulation with the forward_problem function"
   ]
  },
  {
   "cell_type": "code",
   "execution_count": 12,
   "id": "c6e1d44f",
   "metadata": {},
   "outputs": [
    {
     "name": "stdout",
     "output_type": "stream",
     "text": [
      "Warning: Catalyst zone will be refined and rounded to the nearest whole mesh point!\n",
      "\n",
      "New Catalyst Fraction = 0.01\n",
      "Old Catalyst Fraction = 0.009900990099009875\n",
      "Change = 1.0%\n",
      "\n",
      "Pulse #: 0\n",
      "Percent: [------------------->] 99.9%Completed in: 40.965 seconds\n",
      "Pulse #: 1\n",
      "Percent: [------------------->] 99.9%Completed in: 40.201 seconds\n",
      "Pulse #: 2\n",
      "Percent: [------------------> ] 93.0%"
     ]
    },
    {
     "ename": "KeyboardInterrupt",
     "evalue": "",
     "output_type": "error",
     "traceback": [
      "\u001b[0;31m---------------------------------------------------------------------------\u001b[0m",
      "\u001b[0;31mKeyboardInterrupt\u001b[0m                         Traceback (most recent call last)",
      "Input \u001b[0;32mIn [12]\u001b[0m, in \u001b[0;36m<cell line: 8>\u001b[0;34m()\u001b[0m\n\u001b[1;32m      6\u001b[0m simulation\u001b[38;5;241m.\u001b[39mreactor_species\u001b[38;5;241m.\u001b[39minert_gasses[\u001b[38;5;124m'\u001b[39m\u001b[38;5;124mAr\u001b[39m\u001b[38;5;124m'\u001b[39m]\u001b[38;5;241m.\u001b[39mnoise \u001b[38;5;241m=\u001b[39m \u001b[38;5;241m0.1\u001b[39m\n\u001b[1;32m      7\u001b[0m \u001b[38;5;66;03m# pulse_time, pulse_number\u001b[39;00m\n\u001b[0;32m----> 8\u001b[0m \u001b[43mforward_problem\u001b[49m\u001b[43m(\u001b[49m\u001b[43mpulse_time\u001b[49m\u001b[38;5;241;43m=\u001b[39;49m\u001b[38;5;241;43m1\u001b[39;49m\u001b[43m,\u001b[49m\u001b[43mpulse_number\u001b[49m\u001b[38;5;241;43m=\u001b[39;49m\u001b[38;5;241;43m5\u001b[39;49m\u001b[43m,\u001b[49m\u001b[43mTAPobject_data_original\u001b[49m\u001b[38;5;241;43m=\u001b[39;49m\u001b[43msimulation\u001b[49m\u001b[43m)\u001b[49m\n\u001b[1;32m      9\u001b[0m flux_graph(simulation)\n",
      "File \u001b[0;32m~/anaconda3/envs/tapsolver-2024/lib/python3.8/site-packages/tapsolver/forward_problem.py:639\u001b[0m, in \u001b[0;36mforward_problem\u001b[0;34m(pulse_time, pulse_number, TAPobject_data_original)\u001b[0m\n\u001b[1;32m    636\u001b[0m \u001b[38;5;28;01melse\u001b[39;00m:\n\u001b[1;32m    638\u001b[0m \t\u001b[38;5;28;01mif\u001b[39;00m t \u001b[38;5;241m>\u001b[39m \u001b[38;5;241m0.0011\u001b[39m\u001b[38;5;241m+\u001b[39mtimeDiff:\n\u001b[0;32m--> 639\u001b[0m \t\t\u001b[43msolver\u001b[49m\u001b[38;5;241;43m.\u001b[39;49m\u001b[43msolve\u001b[49m\u001b[43m(\u001b[49m\u001b[43mannotate\u001b[49m\u001b[43m \u001b[49m\u001b[38;5;241;43m=\u001b[39;49m\u001b[43m \u001b[49m\u001b[38;5;28;43;01mFalse\u001b[39;49;00m\u001b[43m)\u001b[49m\n\u001b[1;32m    640\u001b[0m \t\u001b[38;5;28;01melse\u001b[39;00m:\n\u001b[1;32m    641\u001b[0m \t\tsolvertemp\u001b[38;5;241m.\u001b[39msolve(annotate\u001b[38;5;241m=\u001b[39m\u001b[38;5;28;01mFalse\u001b[39;00m)\n",
      "File \u001b[0;32m~/anaconda3/envs/tapsolver-2024/lib/python3.8/site-packages/fenics_adjoint/variational_solver.py:56\u001b[0m, in \u001b[0;36mNonlinearVariationalSolver.solve\u001b[0;34m(self, **kwargs)\u001b[0m\n\u001b[1;32m     53\u001b[0m     tape\u001b[38;5;241m.\u001b[39madd_block(block)\n\u001b[1;32m     55\u001b[0m \u001b[38;5;28;01mwith\u001b[39;00m stop_annotating():\n\u001b[0;32m---> 56\u001b[0m     out \u001b[38;5;241m=\u001b[39m \u001b[38;5;28;43msuper\u001b[39;49m\u001b[43m(\u001b[49m\u001b[43mNonlinearVariationalSolver\u001b[49m\u001b[43m,\u001b[49m\u001b[43m \u001b[49m\u001b[38;5;28;43mself\u001b[39;49m\u001b[43m)\u001b[49m\u001b[38;5;241;43m.\u001b[39;49m\u001b[43msolve\u001b[49m\u001b[43m(\u001b[49m\u001b[43m)\u001b[49m\n\u001b[1;32m     58\u001b[0m \u001b[38;5;28;01mif\u001b[39;00m annotate:\n\u001b[1;32m     59\u001b[0m     block\u001b[38;5;241m.\u001b[39madd_output(\u001b[38;5;28mself\u001b[39m\u001b[38;5;241m.\u001b[39m_ad_problem\u001b[38;5;241m.\u001b[39m_ad_u\u001b[38;5;241m.\u001b[39mcreate_block_variable())\n",
      "\u001b[0;31mKeyboardInterrupt\u001b[0m: "
     ]
    }
   ],
   "source": [
    "#simulation.reactor_species.gasses['CO'].intensity = 2\n",
    "#simulation.reactor_species.gasses['CO'].delay = 0.0\n",
    "#simulation.reactor_species.gasses['CO'].noise = 0.1\n",
    "#simulation.reactor_species.gasses['O2'].noise = 0.1\n",
    "#simulation.reactor_species.gasses['CO2'].noise = 0.1\n",
    "#simulation.reactor_species.inert_gasses['Ar'].noise = 0.1\n",
    "\n",
    "forward_problem(pulse_time=1,pulse_number=1,TAPobject_data_original=simulation)\n",
    "flux_graph(simulation)"
   ]
  },
  {
   "cell_type": "markdown",
   "id": "e5def9e9",
   "metadata": {},
   "source": [
    "We can also run a series of pulses ('state altering experiment')"
   ]
  },
  {
   "cell_type": "code",
   "execution_count": 27,
   "id": "b70593dc",
   "metadata": {},
   "outputs": [
    {
     "name": "stdout",
     "output_type": "stream",
     "text": [
      "Warning: Catalyst zone will be refined and rounded to the nearest whole mesh point!\n",
      "\n",
      "New Catalyst Fraction = 0.01\n",
      "Old Catalyst Fraction = 0.009900990099009875\n",
      "Change = 1.0%\n",
      "\n",
      "Pulse #: 0\n",
      "Percent: [------------------->] 99.9%Completed in: 32.403 seconds\n",
      "Pulse #: 1\n",
      "Percent: [------------------->] 99.9%Completed in: 36.259 seconds\n",
      "Pulse #: 2\n",
      "Percent: [------------------->] 99.9%Completed in: 38.186 seconds\n"
     ]
    }
   ],
   "source": [
    "forward_problem(pulse_time=1,pulse_number=3,TAPobject_data_original=simulation)"
   ]
  },
  {
   "cell_type": "markdown",
   "id": "9501c196",
   "metadata": {},
   "source": [
    "We can then load the experimental data using the following command"
   ]
  },
  {
   "cell_type": "code",
   "execution_count": 28,
   "id": "81765f5f",
   "metadata": {},
   "outputs": [],
   "source": [
    "new_data = read_experimental_data_object('./co_oxidation_example/TAP_experimental_data.json')"
   ]
  },
  {
   "cell_type": "markdown",
   "id": "afbe0afb",
   "metadata": {},
   "source": [
    "We can then visualize this data using standard matplotlib functions"
   ]
  },
  {
   "cell_type": "code",
   "execution_count": 30,
   "id": "11fb234f",
   "metadata": {},
   "outputs": [
    {
     "data": {
      "image/png": "[encoded data removed]",
      "text/plain": [
       "<Figure size 504x216 with 1 Axes>"
      ]
     },
     "metadata": {
      "needs_background": "light"
     },
     "output_type": "display_data"
    }
   ],
   "source": [
    "import matplotlib.pyplot as plt\n",
    "\n",
    "fig,ax = plt.subplots(figsize=(7,3))\n",
    "ax.set_ylabel(r'$Flux\\ (nmol/s)$',fontsize=12)\n",
    "ax.set_xlabel(r'$Time (seconds)$',fontsize=12)\n",
    "\n",
    "ax.scatter(new_data['time'][0],new_data['CO'][0],color='g',s=1,label='1')\n",
    "ax.scatter(new_data['time'][0],new_data['CO'][1],color='r',s=1,label='2')\n",
    "ax.scatter(new_data['time'][0],new_data['CO'][2],color='gold',s=1,label='3')\n",
    "\n",
    "ax.legend(title='Pulse #')\n",
    "\n",
    "plt.tight_layout()\n",
    "plt.show()"
   ]
  },
  {
   "cell_type": "markdown",
   "id": "e7a3ccb8",
   "metadata": {},
   "source": [
    "To save time later on, we can store the TAPobject for later use with the command"
   ]
  },
  {
   "cell_type": "code",
   "execution_count": null,
   "id": "61dcb155",
   "metadata": {},
   "outputs": [],
   "source": [
    "save_object(simulation,'./mech_1.json')"
   ]
  },
  {
   "cell_type": "markdown",
   "id": "ab8de004",
   "metadata": {},
   "source": [
    "Which can be read again and manipulated with"
   ]
  },
  {
   "cell_type": "code",
   "execution_count": null,
   "id": "f647bc54",
   "metadata": {},
   "outputs": [],
   "source": [
    "mech_1 = read_TAPobject('./mech_1.json')"
   ]
  },
  {
   "cell_type": "markdown",
   "id": "99b8ba2d",
   "metadata": {},
   "source": [
    "### Now that we've written our first TAPobject, let's apply what we've learned in the 'co_oxidation_problem' notebook"
   ]
  },
  {
   "cell_type": "markdown",
   "id": "8b7e5a2c",
   "metadata": {},
   "source": [
    "# Optimization and uncertainty specification"
   ]
  },
  {
   "cell_type": "markdown",
   "id": "0c5edd8d",
   "metadata": {},
   "source": [
    "Analyzing the inverse problem through optimization and uncertainty quantification are both useful, and often necessary, tools during TAP experiments. To perform optimization, we can define the following:"
   ]
  },
  {
   "cell_type": "code",
   "execution_count": 14,
   "id": "293235d6",
   "metadata": {},
   "outputs": [],
   "source": [
    "# Define the new output folder\n",
    "simulation.output_name = 'o2_fit'\n",
    "\n",
    "# Define the experimental data object we're fitting to\n",
    "simulation.data_name = './o2_data/TAP_experimental_data.json'\n",
    "\n",
    "# Define the gasses to include in our objective function\n",
    "simulation.gasses_objective = ['CO','O2','CO2']\n",
    "\n",
    "# Specify the parameters that we want to fit\n",
    "simulation.parameters_of_interest = ['TAPobject_data.mechanism.elementary_processes[0].forward.k','TAPobject_data.mechanism.elementary_processes[0].backward.k','TAPobject_data.mechanism.elementary_processes[1].forward.k','TAPobject_data.mechanism.elementary_processes[1].backward.k','TAPobject_data.mechanism.elementary_processes[2].forward.k','TAPobject_data.mechanism.elementary_processes[2].backward.k']\n",
    "\n",
    "# Set the 'optimize' argument to True\n",
    "simulation.optimize = True\n",
    "\n",
    "simulation.mechanism.elementary_processes[0].forward.k = 2\n",
    "\n",
    "# Referencing data without flux_graph\n",
    "new_data = read_experimental_data_object('./o2_data/TAP_experimental_data.json')\n",
    "new_data['time'][pulse #]\n",
    "\n",
    "# Alt optimization routines\n",
    "opdh_1.optimization_method = 'CG'\n",
    "\n",
    "\n",
    "# We then just run the forward problem in the same way\n",
    "# forward_problem(1,5,simulation)\n",
    "\n",
    "### Since we don't have an experimental data set specified, running the above code will just return an error"
   ]
  },
  {
   "cell_type": "markdown",
   "id": "dc500d3d",
   "metadata": {},
   "source": [
    "We can also calculate the uncertainty around the parameters adjusting the following argument:"
   ]
  },
  {
   "cell_type": "code",
   "execution_count": 15,
   "id": "19422f5a",
   "metadata": {},
   "outputs": [],
   "source": [
    "simulation.uncertainty = True"
   ]
  },
  {
   "cell_type": "markdown",
   "id": "6e746584",
   "metadata": {},
   "source": [
    "It is important to note that the optimization arguments must be put in place before specifying 'TAPobject.uncertainty = True' for the uncertainty analysis to be performed"
   ]
  },
  {
   "cell_type": "markdown",
   "id": "ec228e7c",
   "metadata": {},
   "source": [
    "### Now that we've specified the how to optimize the parameters, do the following:\n",
    "1. Run the 'o2_adsorption_data_generation' notebook to generate the experimental data set.\n",
    "2. Solve the 'o2_adsorption_inverse_problem' notebook"
   ]
  },
  {
   "cell_type": "code",
   "execution_count": null,
   "id": "3101eb23",
   "metadata": {},
   "outputs": [],
   "source": []
  }
 ],
 "metadata": {
  "kernelspec": {
   "display_name": "Python 3 (ipykernel)",
   "language": "python",
   "name": "python3"
  },
  "language_info": {
   "codemirror_mode": {
    "name": "ipython",
    "version": 3
   },
   "file_extension": ".py",
   "mimetype": "text/x-python",
   "name": "python",
   "nbconvert_exporter": "python",
   "pygments_lexer": "ipython3",
   "version": "3.8.2"
  }
 },
 "nbformat": 4,
 "nbformat_minor": 5
}
