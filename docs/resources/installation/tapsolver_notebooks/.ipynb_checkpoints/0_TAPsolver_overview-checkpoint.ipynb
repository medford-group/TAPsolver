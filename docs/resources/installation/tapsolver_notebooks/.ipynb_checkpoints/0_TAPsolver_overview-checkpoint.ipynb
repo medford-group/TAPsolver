{
 "cells": [
  {
   "cell_type": "markdown",
   "id": "fa494d76",
   "metadata": {},
   "source": [
    "# Generating Experimental Data"
   ]
  },
  {
   "cell_type": "markdown",
   "id": "97c19681",
   "metadata": {},
   "source": [
    "First, let's import tapsolver"
   ]
  },
  {
   "cell_type": "code",
   "execution_count": 13,
   "id": "ac97bffb",
   "metadata": {},
   "outputs": [],
   "source": [
    "from tapsolver import *"
   ]
  },
  {
   "cell_type": "markdown",
   "id": "dfd920bc",
   "metadata": {},
   "source": [
    "Our initial goal is to generate the TAPobject, which will consist of the reactor, gasses and adspecies, and mechanism. First, the reactor can be specified with"
   ]
  },
  {
   "cell_type": "code",
   "execution_count": 3,
   "id": "2ddf2d59",
   "metadata": {},
   "outputs": [],
   "source": [
    "new_reactor = reactor()\n",
    "\n",
    "## Additional options that may be necessary\n",
    "# new_reactor.zone_lengths = {0:0.5,1:,0.1,2:0.5}\n",
    "# new_reactor.zone_voids = {0:0.4,1:0.4,2:0.4}\n",
    "# new_reactor.reactor_radius = 0.19"
   ]
  },
  {
   "cell_type": "markdown",
   "id": "ed4bc8e0",
   "metadata": {},
   "source": [
    "Additional parameters are specified, but we will be using the default parameters for the examples. Next, we need to define the reactor species object"
   ]
  },
  {
   "cell_type": "code",
   "execution_count": 4,
   "id": "10eef3fe",
   "metadata": {},
   "outputs": [],
   "source": [
    "species = reactor_species()\n",
    "\n",
    "## Additional options that may be necessary\n",
    "#species.inert_diffusion = 25.04\n",
    "#species.catalyst_diffusion = 25.04\n",
    "#species.reference_temperature = 700\n",
    "#species.reference_mass = 40\n",
    "#species.temperature = 833\n",
    "#species.advection = 0"
   ]
  },
  {
   "cell_type": "markdown",
   "id": "5b077e49",
   "metadata": {},
   "source": [
    "Now that the object that will contain all reactive and inert gasses, as well as adspecies, has been defined, we can begin adding them"
   ]
  },
  {
   "cell_type": "code",
   "execution_count": 5,
   "id": "1212ad10",
   "metadata": {},
   "outputs": [],
   "source": [
    "# Define the gasses\n",
    "CO = define_gas()\n",
    "O2 = define_gas()\n",
    "CO2 = define_gas()\n",
    "\n",
    "CO.mass = 28\n",
    "CO.intensity = 1\n",
    "CO.noise = 0.1\n",
    "\n",
    "O2.mass = 32\n",
    "O2.intensity = 1\n",
    "O2.noise = 0.1\n",
    "\n",
    "CO2.mass = 44\n",
    "CO2.intensity = 0\n",
    "CO2.noise = 0.1\n",
    "\n",
    "species.add_gas('CO',CO)\n",
    "species.add_gas('O2',O2)\n",
    "species.add_gas('CO2',CO2)"
   ]
  },
  {
   "cell_type": "markdown",
   "id": "4cbf94cc",
   "metadata": {},
   "source": [
    "Last of the gasses, the inert gas is included in the system"
   ]
  },
  {
   "cell_type": "code",
   "execution_count": 6,
   "id": "f3e6eccc",
   "metadata": {},
   "outputs": [],
   "source": [
    "Ar = define_gas()\n",
    "\n",
    "Ar.mass = 40\n",
    "Ar.intensity = 1\n",
    "Ar.noise = 0.1\n",
    "\n",
    "species.add_inert_gas('Ar',Ar)"
   ]
  },
  {
   "cell_type": "markdown",
   "id": "95cee29d",
   "metadata": {},
   "source": [
    "Next, we add our surface species, which will be in the catalyst zone"
   ]
  },
  {
   "cell_type": "code",
   "execution_count": 7,
   "id": "b13a0814",
   "metadata": {},
   "outputs": [],
   "source": [
    "s = define_adspecies()\n",
    "s.concentration = 0\n",
    "species.add_adspecies('CO*',s)\n",
    "\n",
    "s = define_adspecies()\n",
    "s.concentration = 0\n",
    "species.add_adspecies('O*',s)\n",
    "\n",
    "s = define_adspecies()\n",
    "s.concentration = 100\n",
    "species.add_adspecies('*',s)"
   ]
  },
  {
   "cell_type": "markdown",
   "id": "68f12b04",
   "metadata": {},
   "source": [
    "Now that the adspecies and gasses have been defined, we can begin defining the elementary processes and the rate constants. First we make our mechanism object"
   ]
  },
  {
   "cell_type": "code",
   "execution_count": 8,
   "id": "342df1fb",
   "metadata": {},
   "outputs": [],
   "source": [
    "mech = mechanism()"
   ]
  },
  {
   "cell_type": "markdown",
   "id": "c80d3214",
   "metadata": {},
   "source": [
    "Now we can add the processes to the mechanism object with"
   ]
  },
  {
   "cell_type": "code",
   "execution_count": 9,
   "id": "a1943647",
   "metadata": {},
   "outputs": [],
   "source": [
    "mech.elementary_processes[0] = elementary_process('CO + * <-> CO*')\n",
    "mech.elementary_processes[0].forward.k = 1\n",
    "mech.elementary_processes[0].backward.k = 1\n",
    "\n",
    "mech.elementary_processes[1] = elementary_process('O2 + 2* <-> 2O*')\n",
    "mech.elementary_processes[1].forward.k = 1\n",
    "mech.elementary_processes[1].backward.k = 1\n",
    "\n",
    "mech.elementary_processes[2] = elementary_process('CO* + O* <-> CO2 + 2*')\n",
    "mech.elementary_processes[2].forward.k = 1\n",
    "mech.elementary_processes[2].backward.k = 0"
   ]
  },
  {
   "cell_type": "markdown",
   "id": "fb414339",
   "metadata": {},
   "source": [
    "The last step is to actually generate the mechanism object with all relevant processes and parameters"
   ]
  },
  {
   "cell_type": "code",
   "execution_count": 10,
   "id": "8c065c36",
   "metadata": {},
   "outputs": [
    {
     "data": {
      "text/plain": [
       "<tapsolver.mechanism.mechanism at 0x7f68b86b98e0>"
      ]
     },
     "execution_count": 10,
     "metadata": {},
     "output_type": "execute_result"
    }
   ],
   "source": [
    "for j in mech.elementary_processes:\n",
    "\tmech.elementary_processes[j].forward.use = 'k'\n",
    "\ttry:\n",
    "\t\tmech.elementary_processes[j].backward.use = 'k'\n",
    "\texcept:\n",
    "\t\tpass\n",
    "\n",
    "mechanism_constructor(mech)"
   ]
  },
  {
   "cell_type": "markdown",
   "id": "34257a96",
   "metadata": {},
   "source": [
    "Finally, we will define the TAPobject and add all of the components we just generated"
   ]
  },
  {
   "cell_type": "code",
   "execution_count": 11,
   "id": "eed72c92",
   "metadata": {},
   "outputs": [],
   "source": [
    "simulation = TAPobject()\n",
    "simulation.reactor = new_reactor\n",
    "simulation.reactor_species = species\n",
    "simulation.mechanism = mech\n",
    "\n",
    "simulation.output_name = 'co_oxidation_example'"
   ]
  },
  {
   "cell_type": "markdown",
   "id": "feb0f57f",
   "metadata": {},
   "source": [
    "Now we can ran a forward simulation with the forward_problem function"
   ]
  },
  {
   "cell_type": "code",
   "execution_count": 12,
   "id": "84a7d86e",
   "metadata": {},
   "outputs": [
    {
     "name": "stdout",
     "output_type": "stream",
     "text": [
      "Warning: Catalyst zone will be refined and rounded to the nearest whole mesh point!\n",
      "\n",
      "New Catalyst Fraction = 0.01\n",
      "Old Catalyst Fraction = 0.009900990099009875\n",
      "Change = 1.0%\n",
      "\n",
      "Pulse #: 0\n",
      "Percent: [------------------->] 99.9%Completed in: 16.63 seconds\n",
      "Pulse #: 1\n",
      "Percent: [------------------->] 99.9%Completed in: 17.787 seconds\n",
      "Pulse #: 2\n",
      "Percent: [------------------->] 99.9%Completed in: 20.263 seconds\n",
      "Pulse #: 3\n",
      "Percent: [------------------->] 99.9%Completed in: 21.416 seconds\n",
      "Pulse #: 4\n",
      "Percent: [------------------->] 99.9%Completed in: 22.13 seconds\n",
      "no experimental data\n"
     ]
    },
    {
     "data": {
      "image/png": "[encoded data removed]",
      "text/plain": [
       "<Figure size 432x288 with 1 Axes>"
      ]
     },
     "metadata": {
      "needs_background": "light"
     },
     "output_type": "display_data"
    },
    {
     "ename": "SystemExit",
     "evalue": "",
     "output_type": "error",
     "traceback": [
      "An exception has occurred, use %tb to see the full traceback.\n",
      "\u001b[0;31mSystemExit\u001b[0m\n"
     ]
    },
    {
     "name": "stderr",
     "output_type": "stream",
     "text": [
      "/home/ayonge3/anaconda3/envs/tapsolver-2024/lib/python3.8/site-packages/IPython/core/interactiveshell.py:3405: UserWarning: To exit: use 'exit', 'quit', or Ctrl-D.\n",
      "  warn(\"To exit: use 'exit', 'quit', or Ctrl-D.\", stacklevel=1)\n"
     ]
    }
   ],
   "source": [
    "forward_problem(1,5,simulation)\n",
    "flux_graph(simulation)"
   ]
  },
  {
   "cell_type": "markdown",
   "id": "e8e6f6b9",
   "metadata": {},
   "source": [
    "To save time later on, we can store the TAPobject for later use with the command"
   ]
  },
  {
   "cell_type": "code",
   "execution_count": null,
   "id": "325e7970",
   "metadata": {},
   "outputs": [],
   "source": [
    "save_object(simulation,'./mech_1.json')"
   ]
  },
  {
   "cell_type": "markdown",
   "id": "b5134899",
   "metadata": {},
   "source": [
    "Which can be read again and manipulated with"
   ]
  },
  {
   "cell_type": "code",
   "execution_count": null,
   "id": "d6276f06",
   "metadata": {},
   "outputs": [],
   "source": [
    "mech_1 = read_TAPobject('./mech_1.json')"
   ]
  },
  {
   "cell_type": "markdown",
   "id": "5c645e93",
   "metadata": {},
   "source": [
    "### Now that we've written our first TAPobject, let's apply what we've learned in the 'co_oxidation_problem' notebook"
   ]
  },
  {
   "cell_type": "markdown",
   "id": "d7639cd3",
   "metadata": {},
   "source": [
    "# Optimization and uncertainty specification"
   ]
  },
  {
   "cell_type": "markdown",
   "id": "9d529b3c",
   "metadata": {},
   "source": [
    "Analyzing the inverse problem through optimization and uncertainty quantification are both useful, and often necessary, tools during TAP experiments. To perform optimization, we can define the following:"
   ]
  },
  {
   "cell_type": "code",
   "execution_count": 14,
   "id": "c902310e",
   "metadata": {},
   "outputs": [],
   "source": [
    "# Define the new output folder\n",
    "simulation.output_name = 'o2_fit'\n",
    "\n",
    "# Define the experimental data object we're fitting to\n",
    "simulation.data_name = './o2_data/TAP_experimental_data.json'\n",
    "\n",
    "# Define the gasses to include in our objective function\n",
    "simulation.gasses_objective = ['CO','O2','CO2']\n",
    "\n",
    "# Specify the parameters that we want to fit\n",
    "simulation.parameters_of_interest = ['TAPobject_data.mechanism.elementary_processes[0].forward.k','TAPobject_data.mechanism.elementary_processes[0].backward.k','TAPobject_data.mechanism.elementary_processes[1].forward.k','TAPobject_data.mechanism.elementary_processes[1].backward.k','TAPobject_data.mechanism.elementary_processes[2].forward.k','TAPobject_data.mechanism.elementary_processes[2].backward.k']\n",
    "\n",
    "# Set the 'optimize' argument to True\n",
    "simulation.optimize = True\n",
    "\n",
    "\n",
    "# We then just run the forward problem in the same way\n",
    "# forward_problem(1,5,simulation)\n",
    "\n",
    "### Since we don't have an experimental data set specified, running the above code will just return an error"
   ]
  },
  {
   "cell_type": "markdown",
   "id": "f6b3efaf",
   "metadata": {},
   "source": [
    "We can also calculate the uncertainty around the parameters adjusting the following argument:"
   ]
  },
  {
   "cell_type": "code",
   "execution_count": 15,
   "id": "2cfeb70c",
   "metadata": {},
   "outputs": [],
   "source": [
    "simulation.uncertainty = True"
   ]
  },
  {
   "cell_type": "markdown",
   "id": "c42f92cf",
   "metadata": {},
   "source": [
    "It is important to note that the optimization arguments must be put in place before specifying 'TAPobject.uncertainty = True' for the uncertainty analysis to be performed"
   ]
  },
  {
   "cell_type": "markdown",
   "id": "f435c882",
   "metadata": {},
   "source": [
    "### Now that we've specified the how to optimize the parameters, do the following:\n",
    "1. Run the 'o2_adsorption_data_generation' notebook to generate the experimental data set.\n",
    "2. Solve the 'o2_adsorption_inverse_problem' notebook"
   ]
  },
  {
   "cell_type": "code",
   "execution_count": null,
   "id": "508ce18e",
   "metadata": {},
   "outputs": [],
   "source": []
  }
 ],
 "metadata": {
  "kernelspec": {
   "display_name": "Python [conda env:tapsolver-2024] *",
   "language": "python",
   "name": "conda-env-tapsolver-2024-py"
  },
  "language_info": {
   "codemirror_mode": {
    "name": "ipython",
    "version": 3
   },
   "file_extension": ".py",
   "mimetype": "text/x-python",
   "name": "python",
   "nbconvert_exporter": "python",
   "pygments_lexer": "ipython3",
   "version": "3.8.2"
  }
 },
 "nbformat": 4,
 "nbformat_minor": 5
}
