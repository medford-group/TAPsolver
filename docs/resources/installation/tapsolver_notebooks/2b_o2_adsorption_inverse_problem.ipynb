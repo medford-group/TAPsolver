{
 "cells": [
  {
   "cell_type": "markdown",
   "id": "4dcc9990",
   "metadata": {},
   "source": [
    "# Practice Inverse Problem"
   ]
  },
  {
   "cell_type": "markdown",
   "id": "0d61f15f",
   "metadata": {},
   "source": [
    "## Problem details\n",
    "\n",
    "### Mechanism to implement:\n",
    "\n",
    "(1) O2 + 2* <-> O* \n",
    "\n",
    "### Parameters to find:\n",
    "\n",
    "k(1)f = ?\n",
    "\n",
    "k(1)b = ?\n",
    "\n",
    "### Run two, two second simulations with the following gas conditions:\n",
    "\n",
    "O2 Intensity = 1 nmol, O2 Delay = 0.0 s\n",
    "\n",
    "Argon Intensity = 1 nmol, Neon Delay = 0 s\n",
    "\n",
    "Surface concentration of active sites (*) = 100 nmol/cm3"
   ]
  },
  {
   "cell_type": "code",
   "execution_count": null,
   "id": "eb6ab7b7",
   "metadata": {},
   "outputs": [],
   "source": [
    "from tapsolver import *\n",
    "\n",
    "new_reactor = reactor()"
   ]
  },
  {
   "cell_type": "markdown",
   "id": "f315e666",
   "metadata": {},
   "source": [
    "## Add the inert and reactive gas species below"
   ]
  },
  {
   "cell_type": "code",
   "execution_count": 4,
   "id": "5b789afe",
   "metadata": {},
   "outputs": [
    {
     "name": "stdout",
     "output_type": "stream",
     "text": [
      "[120.12628597614246, 0.1010018574425722, 2.015297553785535]\n",
      "['objective', 'TAPobject_data.mechanism.elementary_processes[0].forward.k', 'TAPobject_data.mechanism.elementary_processes[0].backward.k']\n",
      "Warning: Catalyst zone will be refined and rounded to the nearest whole mesh point!\n",
      "\n",
      "New Catalyst Fraction = 0.01\n",
      "Old Catalyst Fraction = 0.009900990099009875\n",
      "Change = 1.0%\n",
      "\n",
      "Pulse #: 0\n",
      "Percent: [------------------->] 99.8%Completed in: 4.811 seconds\n"
     ]
    },
    {
     "data": {
      "image/png": "[encoded data removed]",
      "text/plain": [
       "<Figure size 432x288 with 1 Axes>"
      ]
     },
     "metadata": {
      "needs_background": "light"
     },
     "output_type": "display_data"
    },
    {
     "ename": "SystemExit",
     "evalue": "",
     "output_type": "error",
     "traceback": [
      "An exception has occurred, use %tb to see the full traceback.\n",
      "\u001b[0;31mSystemExit\u001b[0m\n"
     ]
    }
   ],
   "source": [
    "# Define the gasses\n",
    "\n",
    "species = reactor_species()\n",
    "\n",
    "# = define_gas()\n",
    "# .mass = \n",
    "# .intensity = \n",
    "# .delay = \n",
    "# .noise = 0.05\n",
    "# species.add_gas('',)\n",
    "# species.add_inert_gas('',)\n",
    "\n"
   ]
  },
  {
   "cell_type": "markdown",
   "id": "aa6c1d1d",
   "metadata": {},
   "source": [
    "## Add the reactor species below"
   ]
  },
  {
   "cell_type": "code",
   "execution_count": null,
   "id": "c2177ff5",
   "metadata": {},
   "outputs": [],
   "source": [
    "\n",
    "## Reference:\n",
    "# s = define_adspecies()\n",
    "# s.concentration = \n",
    "# species.add_adspecies('',)"
   ]
  },
  {
   "cell_type": "code",
   "execution_count": null,
   "id": "ad702819",
   "metadata": {},
   "outputs": [],
   "source": [
    "## Define the mechanism in the cell below"
   ]
  },
  {
   "cell_type": "code",
   "execution_count": null,
   "id": "f4d04948",
   "metadata": {},
   "outputs": [],
   "source": [
    "mech = mechanism()\n",
    "\n",
    "mech.elementary_processes[0] = elementary_process('O2 + 2* <-> 2O*')\n",
    "mech.elementary_processes[0].forward.k = 1\n",
    "mech.elementary_processes[0].backward.k = 1\n",
    "\n",
    "for j in mech.elementary_processes:\n",
    "\tmech.elementary_processes[j].forward.use = 'k'\n",
    "\ttry:\n",
    "\t\tmech.elementary_processes[j].backward.use = 'k'\n",
    "\texcept:\n",
    "\t\tpass\n",
    "\n",
    "mechanism_constructor(mech)\n",
    "\n",
    "simulation = TAPobject()\n",
    "simulation.reactor = new_reactor\n",
    "simulation.reactor_species = species\n",
    "simulation.mechanism = mech"
   ]
  },
  {
   "cell_type": "markdown",
   "id": "1b343ba5",
   "metadata": {},
   "source": [
    "## Specify the appropriate parameters for optimization below:"
   ]
  },
  {
   "cell_type": "code",
   "execution_count": null,
   "id": "ec273fc3",
   "metadata": {},
   "outputs": [],
   "source": [
    "simulation.output_name = 'o2_fit'\n",
    "simulation.data_name = './o2_data/TAP_experimental_data.json'\n",
    "simulation.gasses_objective = [?]\n",
    "# 'TAPobject_data.mechanism.elementary_processes[?].forward.?'\n",
    "simulation.parameters_of_interest = [?,?]\n",
    "simulation.optimize = False\n",
    "\n",
    "simulation_2 = update_parameters(simulation)"
   ]
  },
  {
   "cell_type": "markdown",
   "id": "cab4ba62",
   "metadata": {},
   "source": [
    "## Now run the optimization process"
   ]
  },
  {
   "cell_type": "code",
   "execution_count": null,
   "id": "ca1599ae",
   "metadata": {},
   "outputs": [],
   "source": [
    "forward_problem(0.5,1,simulation_2)\n",
    "flux_graph(simulation_2)"
   ]
  }
 ],
 "metadata": {
  "kernelspec": {
   "display_name": "Python [conda env:tapsolver-2024] *",
   "language": "python",
   "name": "conda-env-tapsolver-2024-py"
  },
  "language_info": {
   "codemirror_mode": {
    "name": "ipython",
    "version": 3
   },
   "file_extension": ".py",
   "mimetype": "text/x-python",
   "name": "python",
   "nbconvert_exporter": "python",
   "pygments_lexer": "ipython3",
   "version": "3.8.2"
  }
 },
 "nbformat": 4,
 "nbformat_minor": 5
}
