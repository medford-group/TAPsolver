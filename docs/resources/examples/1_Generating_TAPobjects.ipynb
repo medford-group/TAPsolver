{
 "cells": [
  {
   "cell_type": "markdown",
   "id": "a7355547",
   "metadata": {},
   "source": [
    "# Generating TAPobjects"
   ]
  },
  {
   "cell_type": "markdown",
   "id": "2bf71a70",
   "metadata": {},
   "source": [
    "TAPobjects consist of three primary components, including the specification of the reactor, reactor species (gasses, inert gasses, and adspecies), and the reaction mechansim. Additional specifications of the TAPobject include defining what processes should be run (simulation, optimization, uncertainty, etc.), as well as other simulation details (mesh size, catalyst zone density, etc.). Although TAP objects can be generated from scratch, it can be much easier to use this example (as well as other jupyter notebooks provided here) to copy and make your own."
   ]
  },
  {
   "cell_type": "markdown",
   "id": "e8f4ae3d",
   "metadata": {},
   "source": [
    "## Import TAPsolver"
   ]
  },
  {
   "cell_type": "markdown",
   "id": "a839dedc",
   "metadata": {},
   "source": [
    "First, install the tapsolver package, where all of the tap object specifications can be found."
   ]
  },
  {
   "cell_type": "code",
   "execution_count": 1,
   "id": "b7a7318d",
   "metadata": {},
   "outputs": [],
   "source": [
    "from tapsolver import *"
   ]
  },
  {
   "cell_type": "markdown",
   "id": "2c4ccbc2",
   "metadata": {},
   "source": [
    "## Define the reactor object"
   ]
  },
  {
   "cell_type": "markdown",
   "id": "60c72940",
   "metadata": {},
   "source": [
    "A new reactor object can be generated with the following commmand"
   ]
  },
  {
   "cell_type": "code",
   "execution_count": 2,
   "id": "7673f8a0",
   "metadata": {},
   "outputs": [],
   "source": [
    "# Defining a reactor object\n",
    "new_reactor = reactor()"
   ]
  },
  {
   "cell_type": "markdown",
   "id": "acc1140b",
   "metadata": {},
   "source": [
    "After defining a new reactor object, there are three reactor inputs that need to be defined based on your reactor of interest. These are defined in the form of dictionaries (specifying each of the reactor zones) and floats."
   ]
  },
  {
   "cell_type": "code",
   "execution_count": 3,
   "id": "680f7df1",
   "metadata": {},
   "outputs": [],
   "source": [
    "# The length of each zone (cm)\n",
    "new_reactor.zone_lengths = {0:1.8675,1:0.2,2:1.8675}\n",
    "\n",
    "# The void fraction of the packed material (zone 1 [inert], zone 2 [catalyst], zone 3[inert])\n",
    "new_reactor.zone_voids = {0:0.4,1:0.4,2:0.4}\n",
    "\n",
    "# The micro (TAP) reactor radius (cm)\n",
    "new_reactor.reactor_radius = 0.19"
   ]
  },
  {
   "cell_type": "markdown",
   "id": "dba8e58b",
   "metadata": {},
   "source": [
    "## Define the reactor species object"
   ]
  },
  {
   "cell_type": "markdown",
   "id": "8e6b00a0",
   "metadata": {},
   "source": [
    "A new reactor species object can be generated with the following commmand"
   ]
  },
  {
   "cell_type": "code",
   "execution_count": 4,
   "id": "61005ed2",
   "metadata": {},
   "outputs": [],
   "source": [
    "# Defining a reactor species object\n",
    "new_reactor_species = reactor_species()"
   ]
  },
  {
   "cell_type": "markdown",
   "id": "0b72edbb",
   "metadata": {},
   "source": [
    "After defining the reactor species object, some additional details can be adjusted based on your own experiment"
   ]
  },
  {
   "cell_type": "code",
   "execution_count": 5,
   "id": "b0c8ba2f",
   "metadata": {},
   "outputs": [],
   "source": [
    "# The reference diffusion coefficient in the inert zone (cm2/s)\n",
    "new_reactor_species.inert_diffusion = 27\n",
    "\n",
    "# The reference diffusion coefficient in the catalyst zone (cm2/s)\n",
    "new_reactor_species.catalyst_diffusion = 27\n",
    "\n",
    "# The reference temperature in the reactor (K)\n",
    "new_reactor_species.reference_temperature = 700\n",
    "\n",
    "# The mass of the species used for defining the inert and catalyst diffusion coefficient (a.m.u.)\n",
    "new_reactor_species.reference_mass = 40\n",
    "\n",
    "# The temperature of the current reactor\n",
    "new_reactor_species.temperature = 700"
   ]
  },
  {
   "cell_type": "markdown",
   "id": "0946f18f",
   "metadata": {},
   "source": [
    "## Add reactive gasses to the reactor species object"
   ]
  },
  {
   "cell_type": "markdown",
   "id": "d1c90e55",
   "metadata": {},
   "source": [
    "Once the reactor species object is defined, we can add reactive gasses with the following. First, we define a gas (in this case propane)"
   ]
  },
  {
   "cell_type": "code",
   "execution_count": 6,
   "id": "84d69f1c",
   "metadata": {},
   "outputs": [],
   "source": [
    "# Defining a gas species\n",
    "C3H8 = define_gas()"
   ]
  },
  {
   "cell_type": "markdown",
   "id": "1896a653",
   "metadata": {},
   "source": [
    "Next, we specify the properties of the molecule and the pulse"
   ]
  },
  {
   "cell_type": "code",
   "execution_count": 7,
   "id": "3f60dc86",
   "metadata": {},
   "outputs": [],
   "source": [
    "# The mass of the current gas c3h8 (a.m.u.)\n",
    "C3H8.mass = 44.1\n",
    "\n",
    "# The # of molecules being pulsed into the reactor (nmol)\n",
    "C3H8.intensity = 1.0\n",
    "\n",
    "# The time delay of the gas being fed (seconds)\n",
    "C3H8.delay = 0"
   ]
  },
  {
   "cell_type": "markdown",
   "id": "6a5fdb5a",
   "metadata": {},
   "source": [
    "An optional choice for the gas specification is noise and sigma, which represents the signal noise in the pulse and factor to scale the object function by (often equal to noise), respectively."
   ]
  },
  {
   "cell_type": "code",
   "execution_count": 8,
   "id": "2a572f2c",
   "metadata": {},
   "outputs": [],
   "source": [
    "# Scaling factor of the objective function\n",
    "C3H8.sigma = 0.1\n",
    "\n",
    "# Noise to be included in the forward direction (i.e. simulation) (nmol/s)\n",
    "C3H8.noise = 0.4"
   ]
  },
  {
   "cell_type": "markdown",
   "id": "ed7b18bd",
   "metadata": {},
   "source": [
    "Finally, we add the new propane gas to the reactor species object"
   ]
  },
  {
   "cell_type": "code",
   "execution_count": 9,
   "id": "734888f6",
   "metadata": {},
   "outputs": [],
   "source": [
    "# Add the gas to the reactor species object\n",
    "new_reactor_species.add_gas('C3H8',C3H8)"
   ]
  },
  {
   "cell_type": "markdown",
   "id": "f9fee0ce",
   "metadata": {},
   "source": [
    "## Adding a new inert gas to the reactor species object "
   ]
  },
  {
   "cell_type": "markdown",
   "id": "696dc984",
   "metadata": {},
   "source": [
    "Specifying an inert gas follows the same workflow"
   ]
  },
  {
   "cell_type": "code",
   "execution_count": 10,
   "id": "5a350d33",
   "metadata": {},
   "outputs": [],
   "source": [
    "# Same specifications as c3h8\n",
    "Ar = define_gas()\n",
    "Ar.mass = 44.1\n",
    "Ar.intensity = 1\n",
    "Ar.delay = 0.0\n",
    "Ar.noise = 0.01\n",
    "Ar.sigma = 0.02"
   ]
  },
  {
   "cell_type": "markdown",
   "id": "3e578305",
   "metadata": {},
   "source": [
    "The only difference is the addition process"
   ]
  },
  {
   "cell_type": "code",
   "execution_count": 11,
   "id": "0f24a49b",
   "metadata": {},
   "outputs": [],
   "source": [
    "new_reactor_species.add_inert_gas('Ar',Ar)"
   ]
  },
  {
   "cell_type": "markdown",
   "id": "42ebe686",
   "metadata": {},
   "source": [
    "## Adding a new adspecies to the reactor species object"
   ]
  },
  {
   "cell_type": "markdown",
   "id": "2da12081",
   "metadata": {},
   "source": [
    "Adspecies are added in a similar way to that of the gasses"
   ]
  },
  {
   "cell_type": "code",
   "execution_count": 12,
   "id": "bd97eb6c",
   "metadata": {},
   "outputs": [],
   "source": [
    "# Define a new surface species\n",
    "s = define_adspecies()\n",
    "\n",
    "# Define the surface concentration (typically nmol/cm3)\n",
    "s.concentration = 0\n",
    "\n",
    "# Add the surface species to the reactor species object\n",
    "new_reactor_species.add_adspecies('C3H8*',s)"
   ]
  },
  {
   "cell_type": "markdown",
   "id": "38671608",
   "metadata": {},
   "source": [
    "And an active site can be added as "
   ]
  },
  {
   "cell_type": "code",
   "execution_count": 13,
   "id": "ac3d7046",
   "metadata": {},
   "outputs": [],
   "source": [
    "# Same as for c3h8*\n",
    "s = define_adspecies()\n",
    "s.concentration = 120\n",
    "new_reactor_species.add_adspecies('*',s)"
   ]
  },
  {
   "cell_type": "markdown",
   "id": "f1d1870e",
   "metadata": {},
   "source": [
    "## Defining the mechanism"
   ]
  },
  {
   "cell_type": "markdown",
   "id": "315f7e68",
   "metadata": {},
   "source": [
    "The last major component to the TAPobject is the specification of the mechanism"
   ]
  },
  {
   "cell_type": "code",
   "execution_count": 15,
   "id": "c29cb12c",
   "metadata": {},
   "outputs": [],
   "source": [
    "new_mechanism = mechanism()"
   ]
  },
  {
   "cell_type": "markdown",
   "id": "46b2dea1",
   "metadata": {},
   "source": [
    "After defining the mechanism object, we can specify a kinetic process that we want to observe in the catalyst zone as follows."
   ]
  },
  {
   "cell_type": "code",
   "execution_count": 16,
   "id": "b030bdf3",
   "metadata": {},
   "outputs": [],
   "source": [
    "new_mechanism.elementary_processes[0] = elementary_process('C3H8 + * <-> C3H8*')"
   ]
  },
  {
   "cell_type": "markdown",
   "id": "e7e8ea1e",
   "metadata": {},
   "source": [
    "For this mechanism, this is the first step ('elementary_processess[0]'). Additional steps can be added in a similar way, but with a change in the number associated with the process. We can then highlight the forward and reverse kinetic parameters for the reaction"
   ]
  },
  {
   "cell_type": "code",
   "execution_count": 17,
   "id": "6dae9b34",
   "metadata": {},
   "outputs": [],
   "source": [
    "new_mechanism.elementary_processes[0].forward.k = 10\n",
    "new_mechanism.elementary_processes[0].backward.k = 5"
   ]
  },
  {
   "cell_type": "markdown",
   "id": "38600924",
   "metadata": {},
   "source": [
    "The last steps for specifying the mechanism include highlighting which parameters should be included in the analysis. As will be noted in a later notebook, the mechanism can be defined in terms of free energy values or the arrhenius equation, so defining which to actually include is a necessary step."
   ]
  },
  {
   "cell_type": "code",
   "execution_count": 22,
   "id": "6ded478d",
   "metadata": {},
   "outputs": [],
   "source": [
    "# Specify which parameters we want to use in the analysis\n",
    "for j in new_mechanism.elementary_processes:\n",
    "    new_mechanism.elementary_processes[j].forward.use = 'k'\n",
    "    try:\n",
    "        new_mechanism.elementary_processes[j].backward.use = 'k'\n",
    "    except:\n",
    "        pass"
   ]
  },
  {
   "cell_type": "markdown",
   "id": "cac32137",
   "metadata": {},
   "source": [
    "Last, we \"compile\" the mechanism, generating all of the necessary inputs for the details to work with the FEniCS code. "
   ]
  },
  {
   "cell_type": "code",
   "execution_count": 28,
   "id": "421e3a74",
   "metadata": {},
   "outputs": [
    {
     "name": "stdout",
     "output_type": "stream",
     "text": [
      "['C3H8', 'C3H8*', '*']\n",
      "[[-1.  1. -1.]]\n"
     ]
    }
   ],
   "source": [
    "mechanism_constructor(new_mechanism)\n",
    "\n",
    "# Display the reactants and stoichiometric matrix\n",
    "print(new_mechanism.reactants)\n",
    "print(new_mechanism.rate_array)"
   ]
  },
  {
   "cell_type": "markdown",
   "id": "cb472083",
   "metadata": {},
   "source": [
    "## Finalizing the TAPobject (Bringing it all together)"
   ]
  },
  {
   "cell_type": "markdown",
   "id": "6c4debe9",
   "metadata": {},
   "source": [
    "The last step is to merge the previously generated objects into a single TAP object"
   ]
  },
  {
   "cell_type": "code",
   "execution_count": 30,
   "id": "0e3e8711",
   "metadata": {},
   "outputs": [],
   "source": [
    "# Defining a general TAPobject\n",
    "tap_1 = TAPobject()\n",
    "\n",
    "# Adding the previously specified objects to the TAPobject\n",
    "tap_1.mechanism = new_mechanism\n",
    "tap_1.reactor_species = new_reactor_species\n",
    "tap_1.reactor = new_reactor"
   ]
  },
  {
   "cell_type": "markdown",
   "id": "2d5b6d38",
   "metadata": {},
   "source": [
    "## Storing the TAPobject"
   ]
  },
  {
   "cell_type": "markdown",
   "id": "8e5e835c",
   "metadata": {},
   "source": [
    "It is often easiest to store and load the TAPobject for later use. The TAPobject can be stored with the following command."
   ]
  },
  {
   "cell_type": "code",
   "execution_count": 38,
   "id": "1236b8b6",
   "metadata": {},
   "outputs": [],
   "source": [
    "# Store the TAPobject \n",
    "save_object(tap_1,'./example_TAPobject.json')"
   ]
  },
  {
   "cell_type": "markdown",
   "id": "3664d3bd",
   "metadata": {},
   "source": [
    "The TAPobject can then be loaded with:"
   ]
  },
  {
   "cell_type": "code",
   "execution_count": 39,
   "id": "c22508d4",
   "metadata": {},
   "outputs": [
    {
     "name": "stdout",
     "output_type": "stream",
     "text": [
      "Gas already defined in dictionary.\n",
      "Gas already defined in dictionary.\n",
      "Gas already defined in dictionary.\n",
      "['C3H8', 'C3H8*', '*']\n",
      "[[-1.  1. -1.]]\n"
     ]
    }
   ],
   "source": [
    "# Read the TAPobject\n",
    "read_tap_1 = read_TAPobject('./example_TAPobject.json')\n",
    "\n",
    "# Test display\n",
    "print(read_tap_1.mechanism.reactants)\n",
    "print(read_tap_1.mechanism.rate_array)"
   ]
  }
 ],
 "metadata": {
  "kernelspec": {
   "display_name": "Python [conda env:tapsolver-2024] *",
   "language": "python",
   "name": "conda-env-tapsolver-2024-py"
  },
  "language_info": {
   "codemirror_mode": {
    "name": "ipython",
    "version": 3
   },
   "file_extension": ".py",
   "mimetype": "text/x-python",
   "name": "python",
   "nbconvert_exporter": "python",
   "pygments_lexer": "ipython3",
   "version": "3.8.2"
  }
 },
 "nbformat": 4,
 "nbformat_minor": 5
}
