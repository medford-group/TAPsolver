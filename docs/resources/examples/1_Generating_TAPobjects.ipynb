{
 "cells": [
  {
   "cell_type": "markdown",
   "id": "a7355547",
   "metadata": {},
   "source": [
    "# Generating TAPobjects"
   ]
  },
  {
   "cell_type": "markdown",
   "id": "2bf71a70",
   "metadata": {},
   "source": [
    "TAPobjects consist of three primary components, including the specification of the reactor, reactor species (gasses, inert gasses, and adspecies), and the reaction mechansim. Additional specifications of the TAPobject include defining what processes should be run (simulation, optimization, uncertainty, etc.), as well as other simulation details (mesh size, catalyst zone density, etc.). Although TAP objects can be generated from scratch, it can be much easier to use this example (as well as other jupyter notebooks provided here) to copy and make your own."
   ]
  },
  {
   "cell_type": "markdown",
   "id": "e8f4ae3d",
   "metadata": {},
   "source": [
    "## Import TAPsolver"
   ]
  },
  {
   "cell_type": "markdown",
   "id": "a839dedc",
   "metadata": {},
   "source": [
    "First, install the tapsolver package, where all of the tap object specifications can be found."
   ]
  },
  {
   "cell_type": "code",
   "execution_count": 27,
   "id": "b7a7318d",
   "metadata": {},
   "outputs": [],
   "source": [
    "from tapsolver import *"
   ]
  },
  {
   "cell_type": "markdown",
   "id": "2c4ccbc2",
   "metadata": {},
   "source": [
    "## Define the reactor object"
   ]
  },
  {
   "cell_type": "markdown",
   "id": "60c72940",
   "metadata": {},
   "source": [
    "A new reactor object can be generated with the following commmand"
   ]
  },
  {
   "cell_type": "code",
   "execution_count": 28,
   "id": "7673f8a0",
   "metadata": {},
   "outputs": [],
   "source": [
    "# Defining a reactor object\n",
    "new_reactor = reactor()"
   ]
  },
  {
   "cell_type": "markdown",
   "id": "acc1140b",
   "metadata": {},
   "source": [
    "After defining a new reactor object, there are three reactor inputs that need to be defined based on your reactor of interest. These are defined in the form of dictionaries (specifying each of the reactor zones) and floats."
   ]
  },
  {
   "cell_type": "code",
   "execution_count": 78,
   "id": "680f7df1",
   "metadata": {},
   "outputs": [],
   "source": [
    "# The length of each zone (cm)\n",
    "new_reactor.zone_lengths = {0:1.8675,1:0.2,2:1.8675}\n",
    "\n",
    "# The void fraction of the packed material (zone 1 [inert], zone 2 [catalyst], zone 3[inert])\n",
    "new_reactor.zone_voids = {0:0.4,1:0.4,2:0.4}\n",
    "\n",
    "# The micro (TAP) reactor radius (cm)\n",
    "new_reactor.reactor_radius = 0.19"
   ]
  },
  {
   "cell_type": "markdown",
   "id": "dba8e58b",
   "metadata": {},
   "source": [
    "## Define the reactor species object"
   ]
  },
  {
   "cell_type": "markdown",
   "id": "8e6b00a0",
   "metadata": {},
   "source": [
    "A new reactor species object can be generated with the following commmand"
   ]
  },
  {
   "cell_type": "code",
   "execution_count": 30,
   "id": "61005ed2",
   "metadata": {},
   "outputs": [],
   "source": [
    "# Defining a reactor species object\n",
    "new_reactor_species = reactor_species()"
   ]
  },
  {
   "cell_type": "markdown",
   "id": "0b72edbb",
   "metadata": {},
   "source": [
    "After defining the reactor species object, some additional details can be adjusted based on your own experiment"
   ]
  },
  {
   "cell_type": "code",
   "execution_count": 31,
   "id": "b0c8ba2f",
   "metadata": {},
   "outputs": [],
   "source": [
    "# The reference diffusion coefficient in the inert zone (cm2/s)\n",
    "new_reactor_species.inert_diffusion = 27\n",
    "\n",
    "# The reference diffusion coefficient in the catalyst zone (cm2/s)\n",
    "new_reactor_species.catalyst_diffusion = 27\n",
    "\n",
    "# The reference temperature in the reactor (K)\n",
    "new_reactor_species.reference_temperature = 700\n",
    "\n",
    "# The mass of the species used for defining the inert and catalyst diffusion coefficient (a.m.u.)\n",
    "new_reactor_species.reference_mass = 40\n",
    "\n",
    "# The temperature of the current reactor\n",
    "new_reactor_species.temperature = 700"
   ]
  },
  {
   "cell_type": "markdown",
   "id": "0946f18f",
   "metadata": {},
   "source": [
    "## Add reactive gasses to the reactor species object"
   ]
  },
  {
   "cell_type": "markdown",
   "id": "d1c90e55",
   "metadata": {},
   "source": [
    "Once the reactor species object is defined, we can add reactive gasses with the following. First, we define a gas (in this case propane)"
   ]
  },
  {
   "cell_type": "code",
   "execution_count": 32,
   "id": "84d69f1c",
   "metadata": {},
   "outputs": [],
   "source": [
    "# Defining a gas species\n",
    "C3H8 = define_gas()"
   ]
  },
  {
   "cell_type": "markdown",
   "id": "1896a653",
   "metadata": {},
   "source": [
    "Next, we specify the properties of the molecule and the pulse"
   ]
  },
  {
   "cell_type": "code",
   "execution_count": 33,
   "id": "3f60dc86",
   "metadata": {},
   "outputs": [],
   "source": [
    "# The mass of the current gas c3h8 (a.m.u.)\n",
    "C3H8.mass = 44.1\n",
    "\n",
    "# The # of molecules being pulsed into the reactor (nmol)\n",
    "C3H8.intensity = 1.0\n",
    "\n",
    "# The time delay of the gas being fed (seconds)\n",
    "C3H8.delay = 0"
   ]
  },
  {
   "cell_type": "markdown",
   "id": "6a5fdb5a",
   "metadata": {},
   "source": [
    "An optional choice for the gas specification is noise and sigma, which represents the signal noise in the pulse and factor to scale the object function by (often equal to noise), respectively."
   ]
  },
  {
   "cell_type": "code",
   "execution_count": 63,
   "id": "2a572f2c",
   "metadata": {},
   "outputs": [],
   "source": [
    "# Scaling factor of the objective function\n",
    "C3H8.sigma = 0.1\n",
    "\n",
    "# Noise to be included in the forward direction (i.e. simulation) (nmol/s)\n",
    "C3H8.noise = 0.4"
   ]
  },
  {
   "cell_type": "markdown",
   "id": "ed7b18bd",
   "metadata": {},
   "source": [
    "Finally, we add the new propane gas to the reactor species object"
   ]
  },
  {
   "cell_type": "code",
   "execution_count": 79,
   "id": "734888f6",
   "metadata": {},
   "outputs": [
    {
     "name": "stdout",
     "output_type": "stream",
     "text": [
      "Gas already defined in dictionary.\n"
     ]
    }
   ],
   "source": [
    "# Add the gas to the reactor species object\n",
    "new_reactor_species.add_gas('C3H8',C3H8)"
   ]
  },
  {
   "cell_type": "markdown",
   "id": "f9fee0ce",
   "metadata": {},
   "source": [
    "## Adding a new inert gas to the reactor species object "
   ]
  },
  {
   "cell_type": "markdown",
   "id": "696dc984",
   "metadata": {},
   "source": [
    "Specifying an inert gas follows the same workflow"
   ]
  },
  {
   "cell_type": "code",
   "execution_count": 65,
   "id": "5a350d33",
   "metadata": {},
   "outputs": [],
   "source": [
    "# Same specifications as c3h8\n",
    "Ar = define_gas()\n",
    "Ar.mass = 44.1\n",
    "Ar.intensity = 1\n",
    "Ar.delay = 0.0\n",
    "Ar.noise = 0.01\n",
    "Ar.sigma = 0.02"
   ]
  },
  {
   "cell_type": "markdown",
   "id": "3e578305",
   "metadata": {},
   "source": [
    "The only difference is the addition process"
   ]
  },
  {
   "cell_type": "code",
   "execution_count": 66,
   "id": "0f24a49b",
   "metadata": {},
   "outputs": [],
   "source": [
    "new_reactor_species.add_inert_gas('Ar',Ar)"
   ]
  },
  {
   "cell_type": "markdown",
   "id": "42ebe686",
   "metadata": {},
   "source": [
    "## Adding a new adspecies to the reactor species object"
   ]
  },
  {
   "cell_type": "markdown",
   "id": "2da12081",
   "metadata": {},
   "source": [
    "Adspecies are added in a similar way to that of the gasses"
   ]
  },
  {
   "cell_type": "code",
   "execution_count": 67,
   "id": "bd97eb6c",
   "metadata": {},
   "outputs": [
    {
     "name": "stdout",
     "output_type": "stream",
     "text": [
      "Gas already defined in dictionary.\n"
     ]
    }
   ],
   "source": [
    "# Define a new surface species\n",
    "s = define_adspecies()\n",
    "\n",
    "# Define the surface concentration (typically nmol/cm3)\n",
    "s.concentration = 0\n",
    "\n",
    "# Add the surface species to the reactor species object\n",
    "new_reactor_species.add_adspecies('C3H8*',s)"
   ]
  },
  {
   "cell_type": "markdown",
   "id": "38671608",
   "metadata": {},
   "source": [
    "And an active site can be added as "
   ]
  },
  {
   "cell_type": "code",
   "execution_count": 68,
   "id": "ac3d7046",
   "metadata": {},
   "outputs": [
    {
     "name": "stdout",
     "output_type": "stream",
     "text": [
      "Gas already defined in dictionary.\n"
     ]
    }
   ],
   "source": [
    "# Same as for c3h8*\n",
    "s = define_adspecies()\n",
    "s.concentration = 120\n",
    "new_reactor_species.add_adspecies('*',s)"
   ]
  },
  {
   "cell_type": "markdown",
   "id": "f1d1870e",
   "metadata": {},
   "source": [
    "## Defining the mechanism"
   ]
  },
  {
   "cell_type": "code",
   "execution_count": null,
   "id": "212a1af8",
   "metadata": {},
   "outputs": [],
   "source": [
    "The last major component to the TAPobject is the "
   ]
  },
  {
   "cell_type": "code",
   "execution_count": 69,
   "id": "c29cb12c",
   "metadata": {},
   "outputs": [],
   "source": [
    "new_mechanism = mechanism()"
   ]
  },
  {
   "cell_type": "code",
   "execution_count": null,
   "id": "1b26ffa6",
   "metadata": {},
   "outputs": [],
   "source": []
  },
  {
   "cell_type": "code",
   "execution_count": 70,
   "id": "b030bdf3",
   "metadata": {},
   "outputs": [],
   "source": [
    "new_mechanism.elementary_processes[0] = elementary_process('C3H8 + * <-> C3H8*')"
   ]
  },
  {
   "cell_type": "code",
   "execution_count": null,
   "id": "88930c0d",
   "metadata": {},
   "outputs": [],
   "source": []
  },
  {
   "cell_type": "code",
   "execution_count": 71,
   "id": "6dae9b34",
   "metadata": {},
   "outputs": [],
   "source": [
    "new_mechanism.elementary_processes[0].forward.k = 10\n",
    "new_mechanism.elementary_processes[0].backward.k = 5"
   ]
  },
  {
   "cell_type": "code",
   "execution_count": null,
   "id": "67aee411",
   "metadata": {},
   "outputs": [],
   "source": []
  },
  {
   "cell_type": "code",
   "execution_count": 72,
   "id": "6ded478d",
   "metadata": {},
   "outputs": [],
   "source": [
    "for j in new_mechanism.elementary_processes:\n",
    "\tnew_mechanism.elementary_processes[j].forward.use = 'k'\n",
    "try:\n",
    "\tnew_mechanism.elementary_processes[j].backward.use = 'k'\n",
    "except:\n",
    "\tpass"
   ]
  },
  {
   "cell_type": "code",
   "execution_count": null,
   "id": "c1909f48",
   "metadata": {},
   "outputs": [],
   "source": []
  },
  {
   "cell_type": "code",
   "execution_count": 73,
   "id": "421e3a74",
   "metadata": {},
   "outputs": [
    {
     "data": {
      "text/plain": [
       "<tapsolver.mechanism.mechanism at 0x7f0a3b730c40>"
      ]
     },
     "execution_count": 73,
     "metadata": {},
     "output_type": "execute_result"
    }
   ],
   "source": [
    "mechanism_constructor(new_mechanism)"
   ]
  },
  {
   "cell_type": "markdown",
   "id": "cb472083",
   "metadata": {},
   "source": [
    "## Finalizing the TAPobject (Bringing it all together)"
   ]
  },
  {
   "cell_type": "code",
   "execution_count": 74,
   "id": "88b602e3",
   "metadata": {},
   "outputs": [],
   "source": [
    "# Defining a general TAPobject\n",
    "opdh_1 = TAPobject()"
   ]
  },
  {
   "cell_type": "code",
   "execution_count": null,
   "id": "c7a23577",
   "metadata": {},
   "outputs": [],
   "source": []
  },
  {
   "cell_type": "code",
   "execution_count": 75,
   "id": "7ce6f25b",
   "metadata": {},
   "outputs": [],
   "source": [
    "# Adding the previously specified objects to the TAPobject\n",
    "opdh_1.mechanism = new_mechanism\n",
    "opdh_1.reactor_species = new_reactor_species\n",
    "opdh_1.reactor = new_reactor"
   ]
  },
  {
   "cell_type": "code",
   "execution_count": null,
   "id": "e624a38c",
   "metadata": {},
   "outputs": [],
   "source": []
  },
  {
   "cell_type": "markdown",
   "id": "2d5b6d38",
   "metadata": {},
   "source": [
    "## Storing the TAPobject"
   ]
  },
  {
   "cell_type": "code",
   "execution_count": 81,
   "id": "0e700591",
   "metadata": {},
   "outputs": [],
   "source": [
    "# Store the TAPobject \n",
    "save_object(opdh_1,'./example_TAPobject')"
   ]
  },
  {
   "cell_type": "code",
   "execution_count": 77,
   "id": "65a97b23",
   "metadata": {},
   "outputs": [
    {
     "name": "stdout",
     "output_type": "stream",
     "text": [
      "no experimental data\n"
     ]
    },
    {
     "data": {
      "image/png": "[encoded data removed]",
      "text/plain": [
       "<Figure size 432x288 with 1 Axes>"
      ]
     },
     "metadata": {
      "needs_background": "light"
     },
     "output_type": "display_data"
    },
    {
     "ename": "SystemExit",
     "evalue": "",
     "output_type": "error",
     "traceback": [
      "An exception has occurred, use %tb to see the full traceback.\n",
      "\u001b[0;31mSystemExit\u001b[0m\n"
     ]
    }
   ],
   "source": [
    "forward_problem(1,1,opdh_1)\n",
    "flux_graph(opdh_1)"
   ]
  },
  {
   "cell_type": "code",
   "execution_count": null,
   "id": "c22508d4",
   "metadata": {},
   "outputs": [],
   "source": []
  },
  {
   "cell_type": "code",
   "execution_count": null,
   "id": "55a06956",
   "metadata": {},
   "outputs": [],
   "source": []
  },
  {
   "cell_type": "code",
   "execution_count": null,
   "id": "cd9ff90c",
   "metadata": {},
   "outputs": [],
   "source": []
  },
  {
   "cell_type": "code",
   "execution_count": null,
   "id": "bbfa9ab8",
   "metadata": {},
   "outputs": [],
   "source": []
  }
 ],
 "metadata": {
  "kernelspec": {
   "display_name": "Python [conda env:tapsolver-2024] *",
   "language": "python",
   "name": "conda-env-tapsolver-2024-py"
  },
  "language_info": {
   "codemirror_mode": {
    "name": "ipython",
    "version": 3
   },
   "file_extension": ".py",
   "mimetype": "text/x-python",
   "name": "python",
   "nbconvert_exporter": "python",
   "pygments_lexer": "ipython3",
   "version": "3.8.2"
  }
 },
 "nbformat": 4,
 "nbformat_minor": 5
}
