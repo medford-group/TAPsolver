{
 "cells": [
  {
   "cell_type": "markdown",
   "id": "c1afb586",
   "metadata": {},
   "source": [
    "# Alternative ways of defining the kinetic details"
   ]
  },
  {
   "cell_type": "markdown",
   "id": "410a11a4",
   "metadata": {},
   "source": [
    "## Initialize the tap object"
   ]
  },
  {
   "cell_type": "code",
   "execution_count": 69,
   "id": "7fccc322",
   "metadata": {},
   "outputs": [],
   "source": [
    "from tapsolver import *\n",
    "\n",
    "new_reactor = reactor()\n",
    "\n",
    "new_reactor.zone_lengths = {0:1.8675,1:0.2,2:1.8675}\n",
    "new_reactor.zone_voids = {0:0.4,1:0.4,2:0.4}\n",
    "new_reactor.reactor_radius = 0.19\n",
    "\n",
    "new_reactor_species = reactor_species()\n",
    "new_reactor_species.inert_diffusion = 27\n",
    "new_reactor_species.catalyst_diffusion = 27\n",
    "new_reactor_species.reference_temperature = 700\n",
    "new_reactor_species.reference_mass = 40\n",
    "new_reactor_species.temperature = 700\n",
    "\n",
    "C3H8 = define_gas()\n",
    "C3H8.mass = 44.1\n",
    "C3H8.intensity = 1.0\n",
    "C3H8.delay = 0\n",
    "C3H8.sigma = 0.1\n",
    "C3H8.noise = 0.1\n",
    "new_reactor_species.add_gas('C3H8',C3H8)\n",
    "\n",
    "C3H6 = define_gas()\n",
    "C3H6.mass = 42\n",
    "C3H6.intensity = 0.0\n",
    "C3H6.delay = 0\n",
    "C3H6.sigma = 0.1\n",
    "C3H6.noise = 0.1\n",
    "new_reactor_species.add_gas('C3H6',C3H6)\n",
    "\n",
    "H2 = define_gas()\n",
    "H2.mass = 2\n",
    "H2.intensity = 0.0\n",
    "H2.delay = 0\n",
    "H2.sigma = 0.1\n",
    "H2.noise = 0.1\n",
    "new_reactor_species.add_gas('H2',H2)\n",
    "\n",
    "Ar = define_gas()\n",
    "Ar.mass = 44.1\n",
    "Ar.intensity = 1\n",
    "Ar.delay = 0.0\n",
    "Ar.noise = 0.01\n",
    "Ar.sigma = 0.02\n",
    "new_reactor_species.add_inert_gas('Ar',Ar)\n",
    "\n",
    "s = define_adspecies()\n",
    "s.concentration = 0\n",
    "new_reactor_species.add_adspecies('C3H8*',s)\n",
    "\n",
    "s = define_adspecies()\n",
    "s.concentration = 0\n",
    "new_reactor_species.add_adspecies('H2*',s)\n",
    "\n",
    "# Same as for c3h8*\n",
    "s = define_adspecies()\n",
    "s.concentration = 120\n",
    "new_reactor_species.add_adspecies('*',s)\n",
    "\n",
    "new_mechanism = mechanism()\n",
    "new_mechanism.elementary_processes[0] = elementary_process('C3H8 + * <-> C3H8*')\n",
    "new_mechanism.elementary_processes[1] = elementary_process('C3H8* <-> C3H6 + H2 + *')\n",
    "\n"
   ]
  },
  {
   "cell_type": "markdown",
   "id": "fbd3393c",
   "metadata": {},
   "source": [
    "## Free energy specification"
   ]
  },
  {
   "cell_type": "code",
   "execution_count": 70,
   "id": "745515b1",
   "metadata": {},
   "outputs": [],
   "source": [
    "# Free energy specification\n",
    "new_mechanism.elementary_processes[0].forward.dG = -0.1\n",
    "new_mechanism.elementary_processes[0].forward.Ga = .5\n",
    "\n",
    "new_mechanism.elementary_processes[1].forward.dG = 0.4\n",
    "new_mechanism.elementary_processes[1].forward.Ga = 1.1"
   ]
  },
  {
   "cell_type": "code",
   "execution_count": 71,
   "id": "410ba21d",
   "metadata": {
    "scrolled": true
   },
   "outputs": [
    {
     "data": {
      "text/plain": [
       "<tapsolver.mechanism.mechanism at 0x7fd38607f1f0>"
      ]
     },
     "execution_count": 71,
     "metadata": {},
     "output_type": "execute_result"
    }
   ],
   "source": [
    "# Specify which parameters we want to use in the analysis\n",
    "for j in new_mechanism.elementary_processes:\n",
    "    new_mechanism.elementary_processes[j].forward.use = 'G'\n",
    "    try:\n",
    "        new_mechanism.elementary_processes[j].backward.use = 'G'\n",
    "    except:\n",
    "        pass\n",
    "    \n",
    "    \n",
    "mechanism_constructor(new_mechanism)"
   ]
  },
  {
   "cell_type": "code",
   "execution_count": 72,
   "id": "593608a6",
   "metadata": {},
   "outputs": [],
   "source": [
    "# Defining a general TAPobject\n",
    "tap_1 = TAPobject()\n",
    "\n",
    "# Adding the previously specified objects to the TAPobject\n",
    "tap_1.mechanism = new_mechanism\n",
    "tap_1.reactor_species = new_reactor_species\n",
    "tap_1.reactor = new_reactor\n",
    "# Scale rate constants by number of active sites (going from free energy to explicit kinetic parameters)\n",
    "tap_1.parameter_scale = 120"
   ]
  },
  {
   "cell_type": "code",
   "execution_count": 73,
   "id": "2d558455",
   "metadata": {},
   "outputs": [
    {
     "name": "stdout",
     "output_type": "stream",
     "text": [
      "Warning: Catalyst zone will be refined and rounded to the nearest whole mesh point!\n",
      "\n",
      "New Catalyst Fraction = 0.05\n",
      "Old Catalyst Fraction = 0.050825921219822094\n",
      "Change = 1.62%\n",
      "\n",
      "Pulse #: 0\n",
      "Percent: [----->              ] 27.7%"
     ]
    },
    {
     "ename": "KeyboardInterrupt",
     "evalue": "",
     "output_type": "error",
     "traceback": [
      "\u001b[0;31m---------------------------------------------------------------------------\u001b[0m",
      "\u001b[0;31mKeyboardInterrupt\u001b[0m                         Traceback (most recent call last)",
      "Input \u001b[0;32mIn [73]\u001b[0m, in \u001b[0;36m<cell line: 1>\u001b[0;34m()\u001b[0m\n\u001b[0;32m----> 1\u001b[0m \u001b[43mforward_problem\u001b[49m\u001b[43m(\u001b[49m\u001b[38;5;241;43m1\u001b[39;49m\u001b[43m,\u001b[49m\u001b[38;5;241;43m1\u001b[39;49m\u001b[43m,\u001b[49m\u001b[43mtap_1\u001b[49m\u001b[43m)\u001b[49m\n\u001b[1;32m      2\u001b[0m flux_graph(tap_1)\n",
      "File \u001b[0;32m~/anaconda3/envs/tapsolver-2024/lib/python3.8/site-packages/tapsolver/forward_problem.py:639\u001b[0m, in \u001b[0;36mforward_problem\u001b[0;34m(pulse_time, pulse_number, TAPobject_data_original)\u001b[0m\n\u001b[1;32m    636\u001b[0m \u001b[38;5;28;01melse\u001b[39;00m:\n\u001b[1;32m    638\u001b[0m \t\u001b[38;5;28;01mif\u001b[39;00m t \u001b[38;5;241m>\u001b[39m \u001b[38;5;241m0.0011\u001b[39m\u001b[38;5;241m+\u001b[39mtimeDiff:\n\u001b[0;32m--> 639\u001b[0m \t\t\u001b[43msolver\u001b[49m\u001b[38;5;241;43m.\u001b[39;49m\u001b[43msolve\u001b[49m\u001b[43m(\u001b[49m\u001b[43mannotate\u001b[49m\u001b[43m \u001b[49m\u001b[38;5;241;43m=\u001b[39;49m\u001b[43m \u001b[49m\u001b[38;5;28;43;01mFalse\u001b[39;49;00m\u001b[43m)\u001b[49m\n\u001b[1;32m    640\u001b[0m \t\u001b[38;5;28;01melse\u001b[39;00m:\n\u001b[1;32m    641\u001b[0m \t\tsolvertemp\u001b[38;5;241m.\u001b[39msolve(annotate\u001b[38;5;241m=\u001b[39m\u001b[38;5;28;01mFalse\u001b[39;00m)\n",
      "File \u001b[0;32m~/anaconda3/envs/tapsolver-2024/lib/python3.8/site-packages/fenics_adjoint/variational_solver.py:56\u001b[0m, in \u001b[0;36mNonlinearVariationalSolver.solve\u001b[0;34m(self, **kwargs)\u001b[0m\n\u001b[1;32m     53\u001b[0m     tape\u001b[38;5;241m.\u001b[39madd_block(block)\n\u001b[1;32m     55\u001b[0m \u001b[38;5;28;01mwith\u001b[39;00m stop_annotating():\n\u001b[0;32m---> 56\u001b[0m     out \u001b[38;5;241m=\u001b[39m \u001b[38;5;28;43msuper\u001b[39;49m\u001b[43m(\u001b[49m\u001b[43mNonlinearVariationalSolver\u001b[49m\u001b[43m,\u001b[49m\u001b[43m \u001b[49m\u001b[38;5;28;43mself\u001b[39;49m\u001b[43m)\u001b[49m\u001b[38;5;241;43m.\u001b[39;49m\u001b[43msolve\u001b[49m\u001b[43m(\u001b[49m\u001b[43m)\u001b[49m\n\u001b[1;32m     58\u001b[0m \u001b[38;5;28;01mif\u001b[39;00m annotate:\n\u001b[1;32m     59\u001b[0m     block\u001b[38;5;241m.\u001b[39madd_output(\u001b[38;5;28mself\u001b[39m\u001b[38;5;241m.\u001b[39m_ad_problem\u001b[38;5;241m.\u001b[39m_ad_u\u001b[38;5;241m.\u001b[39mcreate_block_variable())\n",
      "\u001b[0;31mKeyboardInterrupt\u001b[0m: "
     ]
    }
   ],
   "source": [
    "forward_problem(1,1,tap_1)\n",
    "flux_graph(tap_1)"
   ]
  },
  {
   "cell_type": "markdown",
   "id": "6cab38a3",
   "metadata": {},
   "source": [
    "## Arrhenius specification"
   ]
  },
  {
   "cell_type": "code",
   "execution_count": 74,
   "id": "1bc0818f",
   "metadata": {},
   "outputs": [],
   "source": [
    "# Free energy specification\n",
    "new_mechanism.elementary_processes[0].forward.Ao = 0.01\n",
    "new_mechanism.elementary_processes[0].forward.Ea = .5\n",
    "new_mechanism.elementary_processes[0].backward.Ao = 0.01\n",
    "new_mechanism.elementary_processes[0].backward.Ea = .5\n",
    "\n",
    "new_mechanism.elementary_processes[1].forward.Ao = 0.01\n",
    "new_mechanism.elementary_processes[1].forward.Ea = .5\n",
    "new_mechanism.elementary_processes[1].backward.Ao = 0.01\n",
    "new_mechanism.elementary_processes[1].backward.Ea = .5"
   ]
  },
  {
   "cell_type": "code",
   "execution_count": 75,
   "id": "a41c332a",
   "metadata": {},
   "outputs": [],
   "source": [
    "# Specify which parameters we want to use in the analysis\n",
    "for j in new_mechanism.elementary_processes:\n",
    "    new_mechanism.elementary_processes[j].forward.use = 'E'\n",
    "    try:\n",
    "        new_mechanism.elementary_processes[j].backward.use = 'E'\n",
    "    except:\n",
    "        pass\n",
    "    \n",
    "    \n",
    "mechanism_constructor(new_mechanism)\n",
    "\n",
    "# Defining a general TAPobject\n",
    "tap_1 = TAPobject()\n",
    "\n",
    "# Adding the previously specified objects to the TAPobject\n",
    "tap_1.mechanism = new_mechanism\n",
    "tap_1.reactor_species = new_reactor_species\n",
    "tap_1.reactor = new_reactor\n",
    "# Scale rate constants by number of active sites (going from free energy to explicit kinetic parameters)"
   ]
  },
  {
   "cell_type": "code",
   "execution_count": 76,
   "id": "36b4d579",
   "metadata": {},
   "outputs": [
    {
     "name": "stdout",
     "output_type": "stream",
     "text": [
      "Warning: Catalyst zone will be refined and rounded to the nearest whole mesh point!\n",
      "\n",
      "New Catalyst Fraction = 0.05\n",
      "Old Catalyst Fraction = 0.050825921219822094\n",
      "Change = 1.62%\n",
      "\n"
     ]
    },
    {
     "ename": "AttributeError",
     "evalue": "'mechanism' object has no attribute 'elementary_processes2'",
     "output_type": "error",
     "traceback": [
      "\u001b[0;31m---------------------------------------------------------------------------\u001b[0m",
      "\u001b[0;31mAttributeError\u001b[0m                            Traceback (most recent call last)",
      "Input \u001b[0;32mIn [76]\u001b[0m, in \u001b[0;36m<cell line: 1>\u001b[0;34m()\u001b[0m\n\u001b[0;32m----> 1\u001b[0m \u001b[43mforward_problem\u001b[49m\u001b[43m(\u001b[49m\u001b[38;5;241;43m1\u001b[39;49m\u001b[43m,\u001b[49m\u001b[38;5;241;43m1\u001b[39;49m\u001b[43m,\u001b[49m\u001b[43mtap_1\u001b[49m\u001b[43m)\u001b[49m\n\u001b[1;32m      2\u001b[0m flux_graph(tap_1)\n",
      "File \u001b[0;32m~/anaconda3/envs/tapsolver-2024/lib/python3.8/site-packages/tapsolver/forward_problem.py:383\u001b[0m, in \u001b[0;36mforward_problem\u001b[0;34m(pulse_time, pulse_number, TAPobject_data_original)\u001b[0m\n\u001b[1;32m    376\u001b[0m \u001b[38;5;66;03m#if TAPobject_data.adjoint_sensitivitiy == True:\u001b[39;00m\n\u001b[1;32m    377\u001b[0m \u001b[38;5;66;03m#\t#print(TAPobject_data.parameters_of_interest[0])\u001b[39;00m\n\u001b[1;32m    378\u001b[0m \u001b[38;5;66;03m#\tcontrols = [TAPobject_data.reactor_species.gasses['CO'].intensity]\u001b[39;00m\n\u001b[1;32m    379\u001b[0m \u001b[38;5;66;03m#\t# output_fitting = pointFitting(legend_label[:int(len(legend_label)-reac_input['Number of Inerts'])],reac_input['Time Steps'],reac_input['Experimental Data Folder'],reac_input['Pulse Duration'],reac_input['Objective Points'],objSpecies)\u001b[39;00m\n\u001b[1;32m    382\u001b[0m theta \u001b[38;5;241m=\u001b[39m Constant(\u001b[38;5;241m1\u001b[39m)\n\u001b[0;32m--> 383\u001b[0m Ftemp \u001b[38;5;241m=\u001b[39m \u001b[38;5;28;43meval\u001b[39;49m\u001b[43m(\u001b[49m\u001b[43mF_new\u001b[49m\u001b[43m)\u001b[49m\n\u001b[1;32m    384\u001b[0m theta \u001b[38;5;241m=\u001b[39m Constant(\u001b[38;5;241m0.5\u001b[39m)\n\u001b[1;32m    385\u001b[0m F \u001b[38;5;241m=\u001b[39m \u001b[38;5;28meval\u001b[39m(F_new)\n",
      "File \u001b[0;32m<string>:1\u001b[0m, in \u001b[0;36m<module>\u001b[0;34m\u001b[0m\n",
      "\u001b[0;31mAttributeError\u001b[0m: 'mechanism' object has no attribute 'elementary_processes2'"
     ]
    }
   ],
   "source": [
    "forward_problem(1,1,tap_1)\n",
    "flux_graph(tap_1)"
   ]
  },
  {
   "cell_type": "code",
   "execution_count": null,
   "id": "3c17dfa3",
   "metadata": {},
   "outputs": [],
   "source": []
  }
 ],
 "metadata": {
  "kernelspec": {
   "display_name": "Python [conda env:tapsolver-2024] *",
   "language": "python",
   "name": "conda-env-tapsolver-2024-py"
  },
  "language_info": {
   "codemirror_mode": {
    "name": "ipython",
    "version": 3
   },
   "file_extension": ".py",
   "mimetype": "text/x-python",
   "name": "python",
   "nbconvert_exporter": "python",
   "pygments_lexer": "ipython3",
   "version": "3.8.2"
  }
 },
 "nbformat": 4,
 "nbformat_minor": 5
}
