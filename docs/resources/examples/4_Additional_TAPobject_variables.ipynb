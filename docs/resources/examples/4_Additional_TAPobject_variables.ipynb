{
 "cells": [
  {
   "cell_type": "markdown",
   "id": "891eedc3",
   "metadata": {},
   "source": [
    "# Additional TAPobject variables"
   ]
  },
  {
   "cell_type": "markdown",
   "id": "840eea53",
   "metadata": {},
   "source": [
    "There are other features in the TAPobject that can be adjusted to vary the out of the TAP analysis. These are generally noted below."
   ]
  },
  {
   "cell_type": "code",
   "execution_count": 3,
   "id": "f346c7ba",
   "metadata": {},
   "outputs": [
    {
     "name": "stdout",
     "output_type": "stream",
     "text": [
      "Gas already defined in dictionary.\n",
      "Gas already defined in dictionary.\n",
      "Gas already defined in dictionary.\n"
     ]
    }
   ],
   "source": [
    "from tapsolver import *\n",
    "\n",
    "tap_1 = read_TAPobject('./example_TAPobject.json')\n",
    "\n",
    "# Number mesh cells in reactor space\n",
    "tap_1.mesh = 600\n",
    "\n",
    "# Specify the number of times to double the cells in the catalyst zone\n",
    "tap_1.catalyst_mesh_density = 4\n",
    "\n",
    "# How often should you store data points from the simulation results \n",
    "tap_1.data_storage_frequency = 1\n",
    "\n",
    "# Turn off or on the inclusion of gas noise \n",
    "tap_1.gas_noise = False\n",
    "\n",
    "# Return the objective function value\n",
    "tap_1.objective_return = True\n",
    "\n",
    "# Run finite difference transient sensitivity (generate the dynamic sensitivity analysis)\n",
    "tap_1.finite_difference_trans_sensitivty = True\n",
    "\n",
    "# Adjust the optimization method\n",
    "tap_1.optimization_method = 'CG'"
   ]
  },
  {
   "cell_type": "code",
   "execution_count": null,
   "id": "07970a1c",
   "metadata": {},
   "outputs": [],
   "source": []
  }
 ],
 "metadata": {
  "kernelspec": {
   "display_name": "Python [conda env:tapsolver-2024] *",
   "language": "python",
   "name": "conda-env-tapsolver-2024-py"
  },
  "language_info": {
   "codemirror_mode": {
    "name": "ipython",
    "version": 3
   },
   "file_extension": ".py",
   "mimetype": "text/x-python",
   "name": "python",
   "nbconvert_exporter": "python",
   "pygments_lexer": "ipython3",
   "version": "3.8.2"
  }
 },
 "nbformat": 4,
 "nbformat_minor": 5
}
