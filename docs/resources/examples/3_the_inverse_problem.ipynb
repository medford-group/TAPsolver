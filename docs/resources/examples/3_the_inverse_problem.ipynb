{
 "cells": [
  {
   "cell_type": "markdown",
   "id": "55fc380e",
   "metadata": {},
   "source": [
    "# The Inverse Problem in TAP"
   ]
  },
  {
   "cell_type": "code",
   "execution_count": 16,
   "id": "92584965",
   "metadata": {},
   "outputs": [],
   "source": [
    "from tapsolver import *"
   ]
  },
  {
   "cell_type": "markdown",
   "id": "6181dce0",
   "metadata": {},
   "source": [
    "Now that we have some initial simulation data, we can begin fitting parameters. First, let's reload the TAPobject and make some changes to  object"
   ]
  },
  {
   "cell_type": "code",
   "execution_count": 17,
   "id": "ec8c53d3",
   "metadata": {},
   "outputs": [
    {
     "name": "stdout",
     "output_type": "stream",
     "text": [
      "Gas already defined in dictionary.\n",
      "Gas already defined in dictionary.\n",
      "Gas already defined in dictionary.\n"
     ]
    }
   ],
   "source": [
    "tap_1 = read_TAPobject('./example_TAPobject.json')\n",
    "\n",
    "# Specify the output for our results\n",
    "tap_1.output_name = 'fit_new'\n",
    "\n",
    "# Specify the experimental data we'll be using to fit parameters\n",
    "tap_1.data_name = './exp_new/TAP_experimental_data.json'\n"
   ]
  },
  {
   "cell_type": "markdown",
   "id": "002726e7",
   "metadata": {},
   "source": [
    "It is also import to note what we're fitting (the parameters of interest) and what we're fitting it to (the objective), as well as the degree of noise associated with the fluxes during optimization."
   ]
  },
  {
   "cell_type": "code",
   "execution_count": 18,
   "id": "21b82637",
   "metadata": {},
   "outputs": [],
   "source": [
    "# Which gasses should we include in the objective function\n",
    "tap_1.gasses_objective = ['C3H8']\n",
    "\n",
    "# Change the kinetic parameters to an initial (arbitrary guess)\n",
    "tap_1.parameters_of_interest = ['TAPobject_data.mechanism.elementary_processes[0].forward.k','TAPobject_data.mechanism.elementary_processes[0].backward.k']\n",
    "tap_1.reactor_species.gasses['C3H8'].sigma = 0.01\n",
    "\n",
    "# specify to optimize the parameter\n",
    "tap_1.optimize = True\n",
    "\n",
    "# Initial guesses\n",
    "tap_1.mechanism.elementary_processes[0].forward.k = 1\n",
    "tap_1.mechanism.elementary_processes[0].backward.k = 1\n",
    "\n"
   ]
  },
  {
   "cell_type": "code",
   "execution_count": 19,
   "id": "ab30e84d",
   "metadata": {},
   "outputs": [
    {
     "name": "stdout",
     "output_type": "stream",
     "text": [
      "Warning: Catalyst zone will be refined and rounded to the nearest whole mesh point!\n",
      "\n",
      "New Catalyst Fraction = 0.05\n",
      "Old Catalyst Fraction = 0.050825921219822094\n",
      "Change = 1.62%\n",
      "\n",
      "Pulse #: 0\n",
      "Percent: [------------------->] 99.8%Completed in: 11.154 seconds\n",
      "test 2\n",
      "Step Time: 1652889974.9068894\n",
      "Objective Value: 7351978.247189969\n",
      "Derivative Values [-7617914.188469662, 846523.0592760924]\n",
      "Parameter Values: [1.0, 1.0]\n",
      "RUNNING THE L-BFGS-B CODE\n",
      "\n",
      "           * * *\n",
      "\n",
      "Machine precision = 2.220D-16\n",
      " N =            2     M =           10\n",
      "\n",
      "At X0         0 variables are exactly at the bounds\n",
      "\n",
      "At iterate    0    f=  7.35198D+06    |proj g|=  7.61791D+06\n",
      "Step Time: 1652890002.1621282\n",
      "Objective Value: 2709811.936632089\n",
      "Derivative Values [-2671572.0060713966, 676630.4021907129]\n",
      "Parameter Values: [1.9999999999999916, 0.999999868730472]\n",
      "\n",
      "At iterate    1    f=  2.70981D+06    |proj g|=  2.67157D+06\n",
      "Step Time: 1652890029.67541\n",
      "Objective Value: 1522450.3066844065\n",
      "Derivative Values [-1585805.092796015, 543506.6410571682]\n",
      "Parameter Values: [2.5360541315479233, 0.881896283136179]\n",
      "\n",
      "At iterate    2    f=  1.52245D+06    |proj g|=  1.58581D+06\n",
      "Step Time: 1652890075.1564643\n",
      "Objective Value: 507830.4748834867\n",
      "Derivative Values [-683417.0892537269, 312936.20676983625]\n",
      "Parameter Values: [3.3349776802325195, 0.5301732013269183]\n",
      "\n",
      "At iterate    3    f=  5.07830D+05    |proj g|=  6.83417D+05\n",
      "Step Time: 1652890108.5164762\n",
      "Objective Value: 131817.93887999028\n",
      "Derivative Values [-289832.0876718479, 99790.65707108809]\n",
      "Parameter Values: [3.9593088692024114, 0.12823130293998744]\n",
      "\n",
      "At iterate    4    f=  1.31818D+05    |proj g|=  2.89832D+05\n",
      "Step Time: 1652890145.0269043\n",
      "Objective Value: 34800.09862769808\n",
      "Derivative Values [-126733.09151882432, 10156.27678998592]\n",
      "Parameter Values: [4.402249986460126, 0.0]\n",
      "\n",
      "At iterate    5    f=  3.48001D+04    |proj g|=  1.26733D+05\n",
      "Step Time: 1652890176.4020464\n",
      "Objective Value: 5867.5643618404465\n",
      "Derivative Values [-39203.56440170167, -17480.132879231616]\n",
      "Parameter Values: [4.759858238318774, 0.0]\n",
      "\n",
      "At iterate    6    f=  5.86756D+03    |proj g|=  3.92036D+04\n",
      "Step Time: 1652890204.661392\n",
      "Objective Value: 739.0907675320636\n",
      "Derivative Values [-8091.065305713887, -2624.7286618279336]\n",
      "Parameter Values: [4.9457434853131, 0.08144797613308319]\n",
      "\n",
      "At iterate    7    f=  7.39091D+02    |proj g|=  8.09107D+03\n",
      "Step Time: 1652890232.1332147\n",
      "Objective Value: 508.61821016436977\n",
      "Derivative Values [-647.3105732774724, -406.46734834168404]\n",
      "Parameter Values: [4.992957127398091, 0.09819973258984306]\n",
      "\n",
      "At iterate    8    f=  5.08618D+02    |proj g|=  6.47311D+02\n",
      "Step Time: 1652890259.455122\n",
      "Objective Value: 506.72974852209256\n",
      "Derivative Values [-29.080222749392746, 37.37384698807206]\n",
      "Parameter Values: [4.997295714348624, 0.1004878104531766]\n",
      "\n",
      "At iterate    9    f=  5.06730D+02    |proj g|=  2.90802D+01\n",
      "Step Time: 1652890289.0566547\n",
      "Objective Value: 506.7263551717082\n",
      "Derivative Values [4.2382275933356635, -8.080187410926875]\n",
      "Parameter Values: [4.997439972639658, 0.10037846492291798]\n",
      "\n",
      "At iterate   10    f=  5.06726D+02    |proj g|=  8.08019D+00\n",
      "Step Time: 1652890317.729999\n",
      "Objective Value: 506.72623524327133\n",
      "Derivative Values [-0.010811927120385204, -0.014509423883482019]\n",
      "Parameter Values: [4.997424517598646, 0.10040002502958703]\n",
      "\n",
      "At iterate   11    f=  5.06726D+02    |proj g|=  1.45094D-02\n",
      "Step Time: 1652890345.4816396\n",
      "Objective Value: 506.72623524236536\n",
      "Derivative Values [-0.00017369413787414738, -0.00012473067472237853]\n",
      "Parameter Values: [4.997424601149176, 0.10040008711183897]\n",
      "\n",
      "At iterate   12    f=  5.06726D+02    |proj g|=  1.73694D-04\n",
      "Step Time: 1652890376.055197\n",
      "Objective Value: 506.72623524236684\n",
      "Derivative Values [1.1605726509205348e-08, -1.543264420657337e-08]\n",
      "Parameter Values: [4.997424602370516, 0.10040008775578099]\n",
      "Step Time: 1652890409.1755836\n",
      "Objective Value: 506.7262352423655\n",
      "Derivative Values [-0.00016848111535961853, -0.00012098780655323482]\n",
      "Parameter Values: [4.9974246011858305, 0.10040008713116454]\n",
      "Step Time: 1652890443.397557\n",
      "Objective Value: 506.7262352423451\n",
      "Derivative Values [-0.00017363185113056226, -0.00012468521911118216]\n",
      "Parameter Values: [4.9974246011496195, 0.10040008711207281]\n",
      "Step Time: 1652890471.9384305\n",
      "Objective Value: 506.72623524234285\n",
      "Derivative Values [-0.00017105626446536925, -0.00012283653886749522]\n",
      "Parameter Values: [4.997424601167725, 0.10040008712161867]\n",
      "Step Time: 1652890498.7489426\n",
      "Objective Value: 506.72623524233694\n",
      "Derivative Values [-0.0001710553653346751, -0.0001228360087313538]\n",
      "Parameter Values: [4.99742460116773, 0.10040008712162167]\n",
      "Step Time: 1652890525.5691805\n",
      "Objective Value: 506.72623524234194\n",
      "Derivative Values [-0.0001697687158654875, -0.00012191178332338857]\n",
      "Parameter Values: [4.997424601176781, 0.1004000871263931]\n"
     ]
    },
    {
     "ename": "KeyboardInterrupt",
     "evalue": "",
     "output_type": "error",
     "traceback": [
      "\u001b[0;31m---------------------------------------------------------------------------\u001b[0m",
      "\u001b[0;31mKeyboardInterrupt\u001b[0m                         Traceback (most recent call last)",
      "Input \u001b[0;32mIn [19]\u001b[0m, in \u001b[0;36m<cell line: 1>\u001b[0;34m()\u001b[0m\n\u001b[0;32m----> 1\u001b[0m \u001b[43mforward_problem\u001b[49m\u001b[43m(\u001b[49m\u001b[38;5;241;43m0.5\u001b[39;49m\u001b[43m,\u001b[49m\u001b[38;5;241;43m1\u001b[39;49m\u001b[43m,\u001b[49m\u001b[43mtap_1\u001b[49m\u001b[43m)\u001b[49m\n",
      "File \u001b[0;32m~/anaconda3/envs/tapsolver-2024/lib/python3.8/site-packages/tapsolver/forward_problem.py:797\u001b[0m, in \u001b[0;36mforward_problem\u001b[0;34m(pulse_time, pulse_number, TAPobject_data_original)\u001b[0m\n\u001b[1;32m    790\u001b[0m \t\t\tup_bounds\u001b[38;5;241m.\u001b[39mappend(np\u001b[38;5;241m.\u001b[39minf)\n\u001b[1;32m    792\u001b[0m \t\u001b[38;5;66;03m#for gt in range(0,len(controls)):\u001b[39;00m\n\u001b[1;32m    793\u001b[0m \t\u001b[38;5;66;03m#\tlow_bounds.append(0)\u001b[39;00m\n\u001b[1;32m    794\u001b[0m \t\u001b[38;5;66;03m#\tup_bounds.append(np.inf)\u001b[39;00m\n\u001b[0;32m--> 797\u001b[0m \tu_opt_2 \u001b[38;5;241m=\u001b[39m \u001b[43mminimize\u001b[49m\u001b[43m(\u001b[49m\u001b[43mrf_2\u001b[49m\u001b[43m,\u001b[49m\u001b[43m \u001b[49m\u001b[43mbounds\u001b[49m\u001b[43m \u001b[49m\u001b[38;5;241;43m=\u001b[39;49m\u001b[43m \u001b[49m\u001b[43m(\u001b[49m\u001b[43mlow_bounds\u001b[49m\u001b[43m,\u001b[49m\u001b[43mup_bounds\u001b[49m\u001b[43m)\u001b[49m\u001b[43m,\u001b[49m\u001b[43m \u001b[49m\u001b[43mtol\u001b[49m\u001b[38;5;241;43m=\u001b[39;49m\u001b[38;5;241;43m1e-22\u001b[39;49m\u001b[43m,\u001b[49m\u001b[43m \u001b[49m\u001b[43moptions\u001b[49m\u001b[38;5;241;43m=\u001b[39;49m\u001b[43m{\u001b[49m\u001b[38;5;124;43m\"\u001b[39;49m\u001b[38;5;124;43mftol\u001b[39;49m\u001b[38;5;124;43m\"\u001b[39;49m\u001b[43m:\u001b[49m\u001b[38;5;241;43m1e-22\u001b[39;49m\u001b[43m,\u001b[49m\u001b[38;5;124;43m\"\u001b[39;49m\u001b[38;5;124;43mgtol\u001b[39;49m\u001b[38;5;124;43m\"\u001b[39;49m\u001b[43m:\u001b[49m\u001b[38;5;241;43m1e-22\u001b[39;49m\u001b[43m}\u001b[49m\u001b[43m)\u001b[49m\n\u001b[1;32m    798\u001b[0m \tsys\u001b[38;5;241m.\u001b[39mexit()\n\u001b[1;32m    800\u001b[0m \u001b[38;5;66;03m#!#! ADDING INVERSE ANALYSIS\u001b[39;00m\n",
      "File \u001b[0;32m~/anaconda3/envs/tapsolver-2024/lib/python3.8/site-packages/pyadjoint/tape.py:46\u001b[0m, in \u001b[0;36mno_annotations.<locals>.wrapper\u001b[0;34m(*args, **kwargs)\u001b[0m\n\u001b[1;32m     43\u001b[0m \u001b[38;5;129m@wraps\u001b[39m(function)\n\u001b[1;32m     44\u001b[0m \u001b[38;5;28;01mdef\u001b[39;00m \u001b[38;5;21mwrapper\u001b[39m(\u001b[38;5;241m*\u001b[39margs, \u001b[38;5;241m*\u001b[39m\u001b[38;5;241m*\u001b[39mkwargs):\n\u001b[1;32m     45\u001b[0m     \u001b[38;5;28;01mwith\u001b[39;00m stop_annotating():\n\u001b[0;32m---> 46\u001b[0m         \u001b[38;5;28;01mreturn\u001b[39;00m \u001b[43mfunction\u001b[49m\u001b[43m(\u001b[49m\u001b[38;5;241;43m*\u001b[39;49m\u001b[43margs\u001b[49m\u001b[43m,\u001b[49m\u001b[43m \u001b[49m\u001b[38;5;241;43m*\u001b[39;49m\u001b[38;5;241;43m*\u001b[39;49m\u001b[43mkwargs\u001b[49m\u001b[43m)\u001b[49m\n",
      "File \u001b[0;32m~/anaconda3/envs/tapsolver-2024/lib/python3.8/site-packages/pyadjoint/optimization/optimization.py:254\u001b[0m, in \u001b[0;36mminimize\u001b[0;34m(rf, method, scale, **kwargs)\u001b[0m\n\u001b[1;32m    250\u001b[0m \u001b[38;5;28;01mif\u001b[39;00m algorithm \u001b[38;5;241m==\u001b[39m minimize_scipy_generic:\n\u001b[1;32m    251\u001b[0m     \u001b[38;5;66;03m# For scipy's generic inteface we need to pass the optimisation method as a parameter.\u001b[39;00m\n\u001b[1;32m    252\u001b[0m     kwargs[\u001b[38;5;124m\"\u001b[39m\u001b[38;5;124mmethod\u001b[39m\u001b[38;5;124m\"\u001b[39m] \u001b[38;5;241m=\u001b[39m method\n\u001b[0;32m--> 254\u001b[0m opt \u001b[38;5;241m=\u001b[39m \u001b[43malgorithm\u001b[49m\u001b[43m(\u001b[49m\u001b[43mrf_np\u001b[49m\u001b[43m,\u001b[49m\u001b[43m \u001b[49m\u001b[38;5;241;43m*\u001b[39;49m\u001b[38;5;241;43m*\u001b[39;49m\u001b[43mkwargs\u001b[49m\u001b[43m)\u001b[49m\n\u001b[1;32m    256\u001b[0m \u001b[38;5;28;01mif\u001b[39;00m \u001b[38;5;28mlen\u001b[39m(opt) \u001b[38;5;241m==\u001b[39m \u001b[38;5;241m1\u001b[39m:\n\u001b[1;32m    257\u001b[0m     \u001b[38;5;28;01mreturn\u001b[39;00m opt[\u001b[38;5;241m0\u001b[39m]\n",
      "File \u001b[0;32m~/anaconda3/envs/tapsolver-2024/lib/python3.8/site-packages/pyadjoint/optimization/optimization.py:133\u001b[0m, in \u001b[0;36mminimize_scipy_generic\u001b[0;34m(rf_np, method, bounds, **kwargs)\u001b[0m\n\u001b[1;32m    131\u001b[0m \u001b[38;5;28;01melif\u001b[39;00m bounds \u001b[38;5;129;01mis\u001b[39;00m \u001b[38;5;129;01mnot\u001b[39;00m \u001b[38;5;28;01mNone\u001b[39;00m:\n\u001b[1;32m    132\u001b[0m     bounds \u001b[38;5;241m=\u001b[39m serialise_bounds(rf_np, bounds)\n\u001b[0;32m--> 133\u001b[0m     res \u001b[38;5;241m=\u001b[39m \u001b[43mscipy_minimize\u001b[49m\u001b[43m(\u001b[49m\u001b[43mJ\u001b[49m\u001b[43m,\u001b[49m\u001b[43m \u001b[49m\u001b[43mm_global\u001b[49m\u001b[43m,\u001b[49m\u001b[43m \u001b[49m\u001b[43mmethod\u001b[49m\u001b[38;5;241;43m=\u001b[39;49m\u001b[43mmethod\u001b[49m\u001b[43m,\u001b[49m\u001b[43m \u001b[49m\u001b[43mbounds\u001b[49m\u001b[38;5;241;43m=\u001b[39;49m\u001b[43mbounds\u001b[49m\u001b[43m,\u001b[49m\u001b[43m \u001b[49m\u001b[38;5;241;43m*\u001b[39;49m\u001b[38;5;241;43m*\u001b[39;49m\u001b[43mkwargs\u001b[49m\u001b[43m)\u001b[49m\n\u001b[1;32m    134\u001b[0m \u001b[38;5;28;01melse\u001b[39;00m:\n\u001b[1;32m    135\u001b[0m     res \u001b[38;5;241m=\u001b[39m scipy_minimize(J, m_global, method\u001b[38;5;241m=\u001b[39mmethod, \u001b[38;5;241m*\u001b[39m\u001b[38;5;241m*\u001b[39mkwargs)\n",
      "File \u001b[0;32m~/anaconda3/envs/tapsolver-2024/lib/python3.8/site-packages/scipy/optimize/_minimize.py:623\u001b[0m, in \u001b[0;36mminimize\u001b[0;34m(fun, x0, args, method, jac, hess, hessp, bounds, constraints, tol, callback, options)\u001b[0m\n\u001b[1;32m    620\u001b[0m     \u001b[38;5;28;01mreturn\u001b[39;00m _minimize_newtoncg(fun, x0, args, jac, hess, hessp, callback,\n\u001b[1;32m    621\u001b[0m                               \u001b[38;5;241m*\u001b[39m\u001b[38;5;241m*\u001b[39moptions)\n\u001b[1;32m    622\u001b[0m \u001b[38;5;28;01melif\u001b[39;00m meth \u001b[38;5;241m==\u001b[39m \u001b[38;5;124m'\u001b[39m\u001b[38;5;124ml-bfgs-b\u001b[39m\u001b[38;5;124m'\u001b[39m:\n\u001b[0;32m--> 623\u001b[0m     \u001b[38;5;28;01mreturn\u001b[39;00m \u001b[43m_minimize_lbfgsb\u001b[49m\u001b[43m(\u001b[49m\u001b[43mfun\u001b[49m\u001b[43m,\u001b[49m\u001b[43m \u001b[49m\u001b[43mx0\u001b[49m\u001b[43m,\u001b[49m\u001b[43m \u001b[49m\u001b[43margs\u001b[49m\u001b[43m,\u001b[49m\u001b[43m \u001b[49m\u001b[43mjac\u001b[49m\u001b[43m,\u001b[49m\u001b[43m \u001b[49m\u001b[43mbounds\u001b[49m\u001b[43m,\u001b[49m\n\u001b[1;32m    624\u001b[0m \u001b[43m                            \u001b[49m\u001b[43mcallback\u001b[49m\u001b[38;5;241;43m=\u001b[39;49m\u001b[43mcallback\u001b[49m\u001b[43m,\u001b[49m\u001b[43m \u001b[49m\u001b[38;5;241;43m*\u001b[39;49m\u001b[38;5;241;43m*\u001b[39;49m\u001b[43moptions\u001b[49m\u001b[43m)\u001b[49m\n\u001b[1;32m    625\u001b[0m \u001b[38;5;28;01melif\u001b[39;00m meth \u001b[38;5;241m==\u001b[39m \u001b[38;5;124m'\u001b[39m\u001b[38;5;124mtnc\u001b[39m\u001b[38;5;124m'\u001b[39m:\n\u001b[1;32m    626\u001b[0m     \u001b[38;5;28;01mreturn\u001b[39;00m _minimize_tnc(fun, x0, args, jac, bounds, callback\u001b[38;5;241m=\u001b[39mcallback,\n\u001b[1;32m    627\u001b[0m                          \u001b[38;5;241m*\u001b[39m\u001b[38;5;241m*\u001b[39moptions)\n",
      "File \u001b[0;32m~/anaconda3/envs/tapsolver-2024/lib/python3.8/site-packages/scipy/optimize/lbfgsb.py:360\u001b[0m, in \u001b[0;36m_minimize_lbfgsb\u001b[0;34m(fun, x0, args, jac, bounds, disp, maxcor, ftol, gtol, eps, maxfun, maxiter, iprint, callback, maxls, finite_diff_rel_step, **unknown_options)\u001b[0m\n\u001b[1;32m    354\u001b[0m task_str \u001b[38;5;241m=\u001b[39m task\u001b[38;5;241m.\u001b[39mtobytes()\n\u001b[1;32m    355\u001b[0m \u001b[38;5;28;01mif\u001b[39;00m task_str\u001b[38;5;241m.\u001b[39mstartswith(\u001b[38;5;124mb\u001b[39m\u001b[38;5;124m'\u001b[39m\u001b[38;5;124mFG\u001b[39m\u001b[38;5;124m'\u001b[39m):\n\u001b[1;32m    356\u001b[0m     \u001b[38;5;66;03m# The minimization routine wants f and g at the current x.\u001b[39;00m\n\u001b[1;32m    357\u001b[0m     \u001b[38;5;66;03m# Note that interruptions due to maxfun are postponed\u001b[39;00m\n\u001b[1;32m    358\u001b[0m     \u001b[38;5;66;03m# until the completion of the current minimization iteration.\u001b[39;00m\n\u001b[1;32m    359\u001b[0m     \u001b[38;5;66;03m# Overwrite f and g:\u001b[39;00m\n\u001b[0;32m--> 360\u001b[0m     f, g \u001b[38;5;241m=\u001b[39m \u001b[43mfunc_and_grad\u001b[49m\u001b[43m(\u001b[49m\u001b[43mx\u001b[49m\u001b[43m)\u001b[49m\n\u001b[1;32m    361\u001b[0m \u001b[38;5;28;01melif\u001b[39;00m task_str\u001b[38;5;241m.\u001b[39mstartswith(\u001b[38;5;124mb\u001b[39m\u001b[38;5;124m'\u001b[39m\u001b[38;5;124mNEW_X\u001b[39m\u001b[38;5;124m'\u001b[39m):\n\u001b[1;32m    362\u001b[0m     \u001b[38;5;66;03m# new iteration\u001b[39;00m\n\u001b[1;32m    363\u001b[0m     n_iterations \u001b[38;5;241m+\u001b[39m\u001b[38;5;241m=\u001b[39m \u001b[38;5;241m1\u001b[39m\n",
      "File \u001b[0;32m~/anaconda3/envs/tapsolver-2024/lib/python3.8/site-packages/scipy/optimize/_differentiable_functions.py:267\u001b[0m, in \u001b[0;36mScalarFunction.fun_and_grad\u001b[0;34m(self, x)\u001b[0m\n\u001b[1;32m    265\u001b[0m \u001b[38;5;28;01mif\u001b[39;00m \u001b[38;5;129;01mnot\u001b[39;00m np\u001b[38;5;241m.\u001b[39marray_equal(x, \u001b[38;5;28mself\u001b[39m\u001b[38;5;241m.\u001b[39mx):\n\u001b[1;32m    266\u001b[0m     \u001b[38;5;28mself\u001b[39m\u001b[38;5;241m.\u001b[39m_update_x_impl(x)\n\u001b[0;32m--> 267\u001b[0m \u001b[38;5;28;43mself\u001b[39;49m\u001b[38;5;241;43m.\u001b[39;49m\u001b[43m_update_fun\u001b[49m\u001b[43m(\u001b[49m\u001b[43m)\u001b[49m\n\u001b[1;32m    268\u001b[0m \u001b[38;5;28mself\u001b[39m\u001b[38;5;241m.\u001b[39m_update_grad()\n\u001b[1;32m    269\u001b[0m \u001b[38;5;28;01mreturn\u001b[39;00m \u001b[38;5;28mself\u001b[39m\u001b[38;5;241m.\u001b[39mf, \u001b[38;5;28mself\u001b[39m\u001b[38;5;241m.\u001b[39mg\n",
      "File \u001b[0;32m~/anaconda3/envs/tapsolver-2024/lib/python3.8/site-packages/scipy/optimize/_differentiable_functions.py:233\u001b[0m, in \u001b[0;36mScalarFunction._update_fun\u001b[0;34m(self)\u001b[0m\n\u001b[1;32m    231\u001b[0m \u001b[38;5;28;01mdef\u001b[39;00m \u001b[38;5;21m_update_fun\u001b[39m(\u001b[38;5;28mself\u001b[39m):\n\u001b[1;32m    232\u001b[0m     \u001b[38;5;28;01mif\u001b[39;00m \u001b[38;5;129;01mnot\u001b[39;00m \u001b[38;5;28mself\u001b[39m\u001b[38;5;241m.\u001b[39mf_updated:\n\u001b[0;32m--> 233\u001b[0m         \u001b[38;5;28;43mself\u001b[39;49m\u001b[38;5;241;43m.\u001b[39;49m\u001b[43m_update_fun_impl\u001b[49m\u001b[43m(\u001b[49m\u001b[43m)\u001b[49m\n\u001b[1;32m    234\u001b[0m         \u001b[38;5;28mself\u001b[39m\u001b[38;5;241m.\u001b[39mf_updated \u001b[38;5;241m=\u001b[39m \u001b[38;5;28;01mTrue\u001b[39;00m\n",
      "File \u001b[0;32m~/anaconda3/envs/tapsolver-2024/lib/python3.8/site-packages/scipy/optimize/_differentiable_functions.py:137\u001b[0m, in \u001b[0;36mScalarFunction.__init__.<locals>.update_fun\u001b[0;34m()\u001b[0m\n\u001b[1;32m    136\u001b[0m \u001b[38;5;28;01mdef\u001b[39;00m \u001b[38;5;21mupdate_fun\u001b[39m():\n\u001b[0;32m--> 137\u001b[0m     \u001b[38;5;28mself\u001b[39m\u001b[38;5;241m.\u001b[39mf \u001b[38;5;241m=\u001b[39m \u001b[43mfun_wrapped\u001b[49m\u001b[43m(\u001b[49m\u001b[38;5;28;43mself\u001b[39;49m\u001b[38;5;241;43m.\u001b[39;49m\u001b[43mx\u001b[49m\u001b[43m)\u001b[49m\n",
      "File \u001b[0;32m~/anaconda3/envs/tapsolver-2024/lib/python3.8/site-packages/scipy/optimize/_differentiable_functions.py:134\u001b[0m, in \u001b[0;36mScalarFunction.__init__.<locals>.fun_wrapped\u001b[0;34m(x)\u001b[0m\n\u001b[1;32m    130\u001b[0m \u001b[38;5;28mself\u001b[39m\u001b[38;5;241m.\u001b[39mnfev \u001b[38;5;241m+\u001b[39m\u001b[38;5;241m=\u001b[39m \u001b[38;5;241m1\u001b[39m\n\u001b[1;32m    131\u001b[0m \u001b[38;5;66;03m# Send a copy because the user may overwrite it.\u001b[39;00m\n\u001b[1;32m    132\u001b[0m \u001b[38;5;66;03m# Overwriting results in undefined behaviour because\u001b[39;00m\n\u001b[1;32m    133\u001b[0m \u001b[38;5;66;03m# fun(self.x) will change self.x, with the two no longer linked.\u001b[39;00m\n\u001b[0;32m--> 134\u001b[0m \u001b[38;5;28;01mreturn\u001b[39;00m \u001b[43mfun\u001b[49m\u001b[43m(\u001b[49m\u001b[43mnp\u001b[49m\u001b[38;5;241;43m.\u001b[39;49m\u001b[43mcopy\u001b[49m\u001b[43m(\u001b[49m\u001b[43mx\u001b[49m\u001b[43m)\u001b[49m\u001b[43m,\u001b[49m\u001b[43m \u001b[49m\u001b[38;5;241;43m*\u001b[39;49m\u001b[43margs\u001b[49m\u001b[43m)\u001b[49m\n",
      "File \u001b[0;32m~/anaconda3/envs/tapsolver-2024/lib/python3.8/site-packages/pyadjoint/reduced_functional_numpy.py:36\u001b[0m, in \u001b[0;36mReducedFunctionalNumPy.__call__\u001b[0;34m(self, m_array)\u001b[0m\n\u001b[1;32m     31\u001b[0m \u001b[38;5;124;03m\"\"\"An implementation of the reduced functional evaluation\u001b[39;00m\n\u001b[1;32m     32\u001b[0m \u001b[38;5;124;03m    that accepts the control values as an array of scalars\u001b[39;00m\n\u001b[1;32m     33\u001b[0m \n\u001b[1;32m     34\u001b[0m \u001b[38;5;124;03m\"\"\"\u001b[39;00m\n\u001b[1;32m     35\u001b[0m m_copies \u001b[38;5;241m=\u001b[39m [control\u001b[38;5;241m.\u001b[39mcopy_data() \u001b[38;5;28;01mfor\u001b[39;00m control \u001b[38;5;129;01min\u001b[39;00m \u001b[38;5;28mself\u001b[39m\u001b[38;5;241m.\u001b[39mcontrols]\n\u001b[0;32m---> 36\u001b[0m \u001b[38;5;28;01mreturn\u001b[39;00m \u001b[38;5;28;43mself\u001b[39;49m\u001b[38;5;241;43m.\u001b[39;49m\u001b[43mrf\u001b[49m\u001b[38;5;241;43m.\u001b[39;49m\u001b[38;5;21;43m__call__\u001b[39;49m\u001b[43m(\u001b[49m\u001b[38;5;28;43mself\u001b[39;49m\u001b[38;5;241;43m.\u001b[39;49m\u001b[43mset_local\u001b[49m\u001b[43m(\u001b[49m\u001b[43mm_copies\u001b[49m\u001b[43m,\u001b[49m\u001b[43m \u001b[49m\u001b[43mm_array\u001b[49m\u001b[43m)\u001b[49m\u001b[43m)\u001b[49m\n",
      "File \u001b[0;32m~/anaconda3/envs/tapsolver-2024/lib/python3.8/site-packages/pyadjoint/tape.py:46\u001b[0m, in \u001b[0;36mno_annotations.<locals>.wrapper\u001b[0;34m(*args, **kwargs)\u001b[0m\n\u001b[1;32m     43\u001b[0m \u001b[38;5;129m@wraps\u001b[39m(function)\n\u001b[1;32m     44\u001b[0m \u001b[38;5;28;01mdef\u001b[39;00m \u001b[38;5;21mwrapper\u001b[39m(\u001b[38;5;241m*\u001b[39margs, \u001b[38;5;241m*\u001b[39m\u001b[38;5;241m*\u001b[39mkwargs):\n\u001b[1;32m     45\u001b[0m     \u001b[38;5;28;01mwith\u001b[39;00m stop_annotating():\n\u001b[0;32m---> 46\u001b[0m         \u001b[38;5;28;01mreturn\u001b[39;00m \u001b[43mfunction\u001b[49m\u001b[43m(\u001b[49m\u001b[38;5;241;43m*\u001b[39;49m\u001b[43margs\u001b[49m\u001b[43m,\u001b[49m\u001b[43m \u001b[49m\u001b[38;5;241;43m*\u001b[39;49m\u001b[38;5;241;43m*\u001b[39;49m\u001b[43mkwargs\u001b[49m\u001b[43m)\u001b[49m\n",
      "File \u001b[0;32m~/anaconda3/envs/tapsolver-2024/lib/python3.8/site-packages/pyadjoint/reduced_functional.py:134\u001b[0m, in \u001b[0;36mReducedFunctional.__call__\u001b[0;34m(self, values)\u001b[0m\n\u001b[1;32m    132\u001b[0m \u001b[38;5;28;01mwith\u001b[39;00m \u001b[38;5;28mself\u001b[39m\u001b[38;5;241m.\u001b[39mmarked_controls():\n\u001b[1;32m    133\u001b[0m     \u001b[38;5;28;01mwith\u001b[39;00m stop_annotating():\n\u001b[0;32m--> 134\u001b[0m         \u001b[38;5;28;43mself\u001b[39;49m\u001b[38;5;241;43m.\u001b[39;49m\u001b[43mtape\u001b[49m\u001b[38;5;241;43m.\u001b[39;49m\u001b[43mrecompute\u001b[49m\u001b[43m(\u001b[49m\u001b[43m)\u001b[49m\n\u001b[1;32m    136\u001b[0m func_value \u001b[38;5;241m=\u001b[39m \u001b[38;5;28mself\u001b[39m\u001b[38;5;241m.\u001b[39mscale \u001b[38;5;241m*\u001b[39m \u001b[38;5;28mself\u001b[39m\u001b[38;5;241m.\u001b[39mfunctional\u001b[38;5;241m.\u001b[39mblock_variable\u001b[38;5;241m.\u001b[39mcheckpoint\n\u001b[1;32m    138\u001b[0m \u001b[38;5;66;03m# Call callback\u001b[39;00m\n",
      "File \u001b[0;32m~/anaconda3/envs/tapsolver-2024/lib/python3.8/site-packages/pyadjoint/tape.py:152\u001b[0m, in \u001b[0;36mTape.recompute\u001b[0;34m(self)\u001b[0m\n\u001b[1;32m    150\u001b[0m \u001b[38;5;28;01mdef\u001b[39;00m \u001b[38;5;21mrecompute\u001b[39m(\u001b[38;5;28mself\u001b[39m):\n\u001b[1;32m    151\u001b[0m     \u001b[38;5;28;01mfor\u001b[39;00m i \u001b[38;5;129;01min\u001b[39;00m \u001b[38;5;28mrange\u001b[39m(\u001b[38;5;28mlen\u001b[39m(\u001b[38;5;28mself\u001b[39m\u001b[38;5;241m.\u001b[39m_blocks)):\n\u001b[0;32m--> 152\u001b[0m         \u001b[38;5;28;43mself\u001b[39;49m\u001b[38;5;241;43m.\u001b[39;49m\u001b[43m_blocks\u001b[49m\u001b[43m[\u001b[49m\u001b[43mi\u001b[49m\u001b[43m]\u001b[49m\u001b[38;5;241;43m.\u001b[39;49m\u001b[43mrecompute\u001b[49m\u001b[43m(\u001b[49m\u001b[43m)\u001b[49m\n",
      "File \u001b[0;32m~/anaconda3/envs/tapsolver-2024/lib/python3.8/site-packages/pyadjoint/block.py:348\u001b[0m, in \u001b[0;36mBlock.recompute\u001b[0;34m(self, markings)\u001b[0m\n\u001b[1;32m    345\u001b[0m prepared \u001b[38;5;241m=\u001b[39m \u001b[38;5;28mself\u001b[39m\u001b[38;5;241m.\u001b[39mprepare_recompute_component(inputs, relevant_outputs)\n\u001b[1;32m    347\u001b[0m \u001b[38;5;28;01mfor\u001b[39;00m idx, out \u001b[38;5;129;01min\u001b[39;00m relevant_outputs:\n\u001b[0;32m--> 348\u001b[0m     output \u001b[38;5;241m=\u001b[39m \u001b[38;5;28;43mself\u001b[39;49m\u001b[38;5;241;43m.\u001b[39;49m\u001b[43mrecompute_component\u001b[49m\u001b[43m(\u001b[49m\u001b[43minputs\u001b[49m\u001b[43m,\u001b[49m\n\u001b[1;32m    349\u001b[0m \u001b[43m                                      \u001b[49m\u001b[43mout\u001b[49m\u001b[43m,\u001b[49m\n\u001b[1;32m    350\u001b[0m \u001b[43m                                      \u001b[49m\u001b[43midx\u001b[49m\u001b[43m,\u001b[49m\n\u001b[1;32m    351\u001b[0m \u001b[43m                                      \u001b[49m\u001b[43mprepared\u001b[49m\u001b[43m)\u001b[49m\n\u001b[1;32m    352\u001b[0m     \u001b[38;5;28;01mif\u001b[39;00m output \u001b[38;5;129;01mis\u001b[39;00m \u001b[38;5;129;01mnot\u001b[39;00m \u001b[38;5;28;01mNone\u001b[39;00m:\n\u001b[1;32m    353\u001b[0m         out\u001b[38;5;241m.\u001b[39mcheckpoint \u001b[38;5;241m=\u001b[39m output\n",
      "File \u001b[0;32m~/anaconda3/envs/tapsolver-2024/lib/python3.8/site-packages/fenics_adjoint/solving.py:562\u001b[0m, in \u001b[0;36mSolveBlock.recompute_component\u001b[0;34m(self, inputs, block_variable, idx, prepared)\u001b[0m\n\u001b[1;32m    559\u001b[0m func \u001b[38;5;241m=\u001b[39m prepared[\u001b[38;5;241m2\u001b[39m]\n\u001b[1;32m    560\u001b[0m bcs \u001b[38;5;241m=\u001b[39m prepared[\u001b[38;5;241m3\u001b[39m]\n\u001b[0;32m--> 562\u001b[0m \u001b[38;5;28;01mreturn\u001b[39;00m \u001b[38;5;28;43mself\u001b[39;49m\u001b[38;5;241;43m.\u001b[39;49m\u001b[43m_forward_solve\u001b[49m\u001b[43m(\u001b[49m\u001b[43mlhs\u001b[49m\u001b[43m,\u001b[49m\u001b[43m \u001b[49m\u001b[43mrhs\u001b[49m\u001b[43m,\u001b[49m\u001b[43m \u001b[49m\u001b[43mfunc\u001b[49m\u001b[43m,\u001b[49m\u001b[43m \u001b[49m\u001b[43mbcs\u001b[49m\u001b[43m,\u001b[49m\u001b[43m \u001b[49m\u001b[38;5;241;43m*\u001b[39;49m\u001b[38;5;241;43m*\u001b[39;49m\u001b[38;5;28;43mself\u001b[39;49m\u001b[38;5;241;43m.\u001b[39;49m\u001b[43mforward_kwargs\u001b[49m\u001b[43m)\u001b[49m\u001b[38;5;241m.\u001b[39mv\n",
      "File \u001b[0;32m~/anaconda3/envs/tapsolver-2024/lib/python3.8/site-packages/fenics_adjoint/variational_solver.py:141\u001b[0m, in \u001b[0;36mNonlinearVariationalSolveBlock._forward_solve\u001b[0;34m(self, lhs, rhs, func, bcs, **kwargs)\u001b[0m\n\u001b[1;32m    139\u001b[0m solver \u001b[38;5;241m=\u001b[39m backend\u001b[38;5;241m.\u001b[39mNonlinearVariationalSolver(problem, \u001b[38;5;241m*\u001b[39m\u001b[38;5;241m*\u001b[39m\u001b[38;5;28mself\u001b[39m\u001b[38;5;241m.\u001b[39mnonlin_solver_kwargs)\n\u001b[1;32m    140\u001b[0m solver\u001b[38;5;241m.\u001b[39mparameters\u001b[38;5;241m.\u001b[39mupdate(\u001b[38;5;28mself\u001b[39m\u001b[38;5;241m.\u001b[39mnonlin_solver_params)\n\u001b[0;32m--> 141\u001b[0m \u001b[43msolver\u001b[49m\u001b[38;5;241;43m.\u001b[39;49m\u001b[43msolve\u001b[49m\u001b[43m(\u001b[49m\u001b[43m)\u001b[49m\n\u001b[1;32m    142\u001b[0m \u001b[38;5;28;01mreturn\u001b[39;00m func\n",
      "\u001b[0;31mKeyboardInterrupt\u001b[0m: "
     ]
    }
   ],
   "source": [
    "forward_problem(0.5,1,tap_1)"
   ]
  },
  {
   "cell_type": "markdown",
   "id": "62fa05bb",
   "metadata": {},
   "source": [
    "Last, you can update the parameters to the local minimum and quantify the uncertainty associated with it through the following commands:"
   ]
  },
  {
   "cell_type": "code",
   "execution_count": 20,
   "id": "4d484c9b",
   "metadata": {},
   "outputs": [
    {
     "name": "stdout",
     "output_type": "stream",
     "text": [
      "[506.72623524234194, 4.997424601176781, 0.1004000871263931]\n",
      "['objective', 'TAPobject_data.mechanism.elementary_processes[0].forward.k', 'TAPobject_data.mechanism.elementary_processes[0].backward.k']\n",
      "Warning: Catalyst zone will be refined and rounded to the nearest whole mesh point!\n",
      "\n",
      "New Catalyst Fraction = 0.05\n",
      "Old Catalyst Fraction = 0.050825921219822094\n",
      "Change = 1.62%\n",
      "\n",
      "Pulse #: 0\n",
      "Percent: [------------------->] 99.8%Completed in: 11.564 seconds\n",
      "\n",
      "Calculating hessian. Could take some time.\n",
      "Calling FFC just-in-time (JIT) compiler, this may take some time.\n",
      "Calling FFC just-in-time (JIT) compiler, this may take some time.\n",
      "Calling FFC just-in-time (JIT) compiler, this may take some time.\n",
      "Calling FFC just-in-time (JIT) compiler, this may take some time.\n",
      "Calling FFC just-in-time (JIT) compiler, this may take some time.\n",
      "Calling FFC just-in-time (JIT) compiler, this may take some time.\n",
      "Calling FFC just-in-time (JIT) compiler, this may take some time.\n",
      "Calling FFC just-in-time (JIT) compiler, this may take some time.\n",
      "Calling FFC just-in-time (JIT) compiler, this may take some time.\n",
      "Calling FFC just-in-time (JIT) compiler, this may take some time.\n",
      "Calling FFC just-in-time (JIT) compiler, this may take some time.\n",
      "Calling FFC just-in-time (JIT) compiler, this may take some time.\n",
      "Calling FFC just-in-time (JIT) compiler, this may take some time.\n",
      "Calling FFC just-in-time (JIT) compiler, this may take some time.\n",
      "Calling FFC just-in-time (JIT) compiler, this may take some time.\n",
      "Calling FFC just-in-time (JIT) compiler, this may take some time.\n",
      "Calling FFC just-in-time (JIT) compiler, this may take some time.\n",
      "Calling FFC just-in-time (JIT) compiler, this may take some time.\n",
      "Calling FFC just-in-time (JIT) compiler, this may take some time.\n",
      "Calling FFC just-in-time (JIT) compiler, this may take some time.\n",
      "Calling FFC just-in-time (JIT) compiler, this may take some time.\n",
      "Calling FFC just-in-time (JIT) compiler, this may take some time.\n",
      "Calling FFC just-in-time (JIT) compiler, this may take some time.\n",
      "Calling FFC just-in-time (JIT) compiler, this may take some time.\n",
      "Calling FFC just-in-time (JIT) compiler, this may take some time.\n",
      "Calling FFC just-in-time (JIT) compiler, this may take some time.\n",
      "Calling FFC just-in-time (JIT) compiler, this may take some time.\n",
      "Calling FFC just-in-time (JIT) compiler, this may take some time.\n",
      "Calling FFC just-in-time (JIT) compiler, this may take some time.\n",
      "Calling FFC just-in-time (JIT) compiler, this may take some time.\n",
      "Calling FFC just-in-time (JIT) compiler, this may take some time.\n",
      "Calling FFC just-in-time (JIT) compiler, this may take some time.\n",
      "Calling FFC just-in-time (JIT) compiler, this may take some time.\n",
      "Calling FFC just-in-time (JIT) compiler, this may take some time.\n",
      "Calling FFC just-in-time (JIT) compiler, this may take some time.\n",
      "Calling FFC just-in-time (JIT) compiler, this may take some time.\n",
      "Calling FFC just-in-time (JIT) compiler, this may take some time.\n",
      "Calling FFC just-in-time (JIT) compiler, this may take some time.\n",
      "Calling FFC just-in-time (JIT) compiler, this may take some time.\n",
      "Finished generating hessian, storing now.\n",
      "The eigenvalues of the hessian are:\n",
      "[151148.89838943 352088.49347282]\n",
      "Generating Covariance Matrix by Inverting the Hessian\n",
      "[[178624.33923618 -69036.25213436]\n",
      " [-69036.25213437 324613.05262608]]\n",
      "The first and second standard deviations of each parameter are:\n",
      "[0.00246976 0.00183207]\n",
      "[0.00493952 0.00366414]\n"
     ]
    },
    {
     "ename": "SystemExit",
     "evalue": "",
     "output_type": "error",
     "traceback": [
      "An exception has occurred, use %tb to see the full traceback.\n",
      "\u001b[0;31mSystemExit\u001b[0m\n"
     ]
    }
   ],
   "source": [
    "tap_local = update_parameters(tap_1)\n",
    "tap_local.uncertainty = True\n",
    "forward_problem(0.5,1,tap_local)"
   ]
  },
  {
   "cell_type": "code",
   "execution_count": null,
   "id": "714fc04e",
   "metadata": {},
   "outputs": [],
   "source": []
  }
 ],
 "metadata": {
  "kernelspec": {
   "display_name": "Python [conda env:tapsolver-2024] *",
   "language": "python",
   "name": "conda-env-tapsolver-2024-py"
  },
  "language_info": {
   "codemirror_mode": {
    "name": "ipython",
    "version": 3
   },
   "file_extension": ".py",
   "mimetype": "text/x-python",
   "name": "python",
   "nbconvert_exporter": "python",
   "pygments_lexer": "ipython3",
   "version": "3.8.2"
  }
 },
 "nbformat": 4,
 "nbformat_minor": 5
}
