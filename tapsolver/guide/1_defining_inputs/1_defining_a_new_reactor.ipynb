{
 "cells": [
  {
   "cell_type": "markdown",
   "metadata": {},
   "source": [
    "# Defining a TAP Reactor from Scratch"
   ]
  },
  {
   "cell_type": "markdown",
   "metadata": {},
   "source": [
    "Although a predefined reactor can be imported, a fresh reactor can also be defined. This is achieved with:"
   ]
  },
  {
   "cell_type": "code",
   "execution_count": null,
   "metadata": {
    "collapsed": true
   },
   "outputs": [],
   "source": [
    "from TAPsolver import *\n",
    "\n",
    "reactor = reactor()"
   ]
  },
  {
   "cell_type": "markdown",
   "metadata": {},
   "source": [
    "The reactor details (outlined below) can then be adjusted to the users needs."
   ]
  },
  {
   "cell_type": "code",
   "execution_count": null,
   "metadata": {
    "collapsed": true
   },
   "outputs": [],
   "source": [
    "# zone_lengths (dict): The zone lengths for the reactor (cm).\n",
    "reactor.zone_lengths = {'zone0': 2.80718, 'zone1': 0.17364, 'zone2': 2.80718}\n",
    "\n",
    "# zone_void (dict): The bed porosity within each zone (unitless).\n",
    "reactor.zone_voids = {'zone0': 0.4, 'zone1': 0.4, 'zone2': 0.4}\n",
    "\n",
    "# reactor_radius (float): The radius of the reactor (cm).\n",
    "reactor.reactor_radius = 1.0\n",
    "\n",
    "# temperature (float): The temperature of the reactor (K).\n",
    "reactor.temperature = 385.65\n",
    "\n",
    "# mesh (int): The number of cells in the mesh used to solve the PDEs (unitless).\n",
    "reactor.mesh = 200\n",
    "\n",
    "# catalyst_mesh_density (int): The number of times the number of mesh cells should be doubled in the catalyst zone (unitless).\n",
    "reactor.catalyst_mesh_density = 4\n",
    "\n",
    "# output_name (str): The name of the output folder for the results of the analysis. \n",
    "reactor.output_name = 'exp_new'\n",
    "\n",
    "# inert_diffusion (float): The reference value of the diffusion coefficient in the inert zone of the reactor (cm2/s).\n",
    "reactor.inert_diffusion = 16\n",
    "\n",
    "# catalyst_diffusion (float): The reference value of the diffusion coefficient in the catalyst zone of the reactor (cm2/s). \n",
    "reactor.catalyst_diffusion = 16\n",
    "\n",
    "# reference_temperature (float): The temperature that the inert_diff and inert_cat values were determined (K).\n",
    "reactor.reference_temperature = 385.6\n",
    "\n",
    "# reference_mass (float): The mass that inert_diff and inert_cat values were determined (a.m.u.).\n",
    "reactor.reference_mass = 40\n",
    "\n",
    "# advection (float): The rate of advection (velocity) of the gas species. One advection value for all gasses (cm/s).\n",
    "reactor.advection = 0"
   ]
  },
  {
   "cell_type": "code",
   "execution_count": null,
   "metadata": {
    "collapsed": true
   },
   "outputs": [],
   "source": []
  }
 ],
 "metadata": {
  "kernelspec": {
   "display_name": "Python 3",
   "language": "python",
   "name": "python3"
  },
  "language_info": {
   "codemirror_mode": {
    "name": "ipython",
    "version": 3
   },
   "file_extension": ".py",
   "mimetype": "text/x-python",
   "name": "python",
   "nbconvert_exporter": "python",
   "pygments_lexer": "ipython3",
   "version": "3.6.7"
  }
 },
 "nbformat": 4,
 "nbformat_minor": 2
}
