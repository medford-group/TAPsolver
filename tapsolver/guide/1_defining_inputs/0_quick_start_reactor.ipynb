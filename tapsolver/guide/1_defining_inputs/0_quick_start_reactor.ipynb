{
 "cells": [
  {
   "cell_type": "markdown",
   "metadata": {},
   "source": [
    "# Quick Definition of the TAP Reactor"
   ]
  },
  {
   "cell_type": "markdown",
   "metadata": {},
   "source": [
    "Often, TAP experimentalists will use the same spatial configurations and simulation settings between experiments. For this reason, the reactor object can be loaded from the TAPsolver package.\n",
    "\n",
    "To display all available to import reactors, run the command:"
   ]
  },
  {
   "cell_type": "code",
   "execution_count": null,
   "metadata": {
    "collapsed": true
   },
   "outputs": [],
   "source": [
    "from TAPsolver import *\n",
    "\n",
    "examples()"
   ]
  },
  {
   "cell_type": "markdown",
   "metadata": {},
   "source": [
    "Once the desired reactor is identified, the reactor can be imported as a reactor object through the command:"
   ]
  },
  {
   "cell_type": "code",
   "execution_count": null,
   "metadata": {
    "collapsed": true
   },
   "outputs": [],
   "source": [
    "reactor = load_example('inl_reactor_1.obj')"
   ]
  },
  {
   "cell_type": "markdown",
   "metadata": {},
   "source": [
    "The reactor object can now be used as an input for experimental analysis. Reactor details can be adjusted through the reactor object parameters:"
   ]
  },
  {
   "cell_type": "code",
   "execution_count": null,
   "metadata": {
    "collapsed": true
   },
   "outputs": [],
   "source": [
    "# zone_lengths (dict): The zone lengths for the reactor (cm).\n",
    "reactor.zone_lengths = {'zone0': 2.80718, 'zone1': 0.17364, 'zone2': 2.80718}\n",
    "\n",
    "# zone_void (dict): The bed porosity within each zone (unitless).\n",
    "reactor.zone_voids = {'zone0': 0.4, 'zone1': 0.4, 'zone2': 0.4}\n",
    "\n",
    "# reactor_radius (float): The radius of the reactor (cm).\n",
    "reactor.reactor_radius = 1.0\n",
    "\n",
    "# temperature (float): The temperature of the reactor (K).\n",
    "reactor.temperature = 385.65\n",
    "\n",
    "# mesh (int): The number of cells in the mesh used to solve the PDEs (unitless).\n",
    "reactor.mesh = 200\n",
    "\n",
    "# catalyst_mesh_density (int): The number of times the number of mesh cells should be doubled in the catalyst zone (unitless).\n",
    "reactor.catalyst_mesh_density = 4\n",
    "\n",
    "# output_name (str): The name of the output folder for the results of the analysis. \n",
    "reactor.output_name = 'exp_new'\n",
    "\n",
    "# inert_diffusion (float): The reference value of the diffusion coefficient in the inert zone of the reactor (cm2/s).\n",
    "reactor.inert_diffusion = 16\n",
    "\n",
    "# catalyst_diffusion (float): The reference value of the diffusion coefficient in the catalyst zone of the reactor (cm2/s). \n",
    "reactor.catalyst_diffusion = 16\n",
    "\n",
    "# reference_temperature (float): The temperature that the inert_diff and inert_cat values were determined (K).\n",
    "reactor.reference_temperature = 385.6\n",
    "\n",
    "# reference_mass (float): The mass that inert_diff and inert_cat values were determined (a.m.u.).\n",
    "reactor.reference_mass = 40\n",
    "\n",
    "# advection (float): The rate of advection (velocity) of the gas species. One advection value for all gasses (cm/s).\n",
    "reactor.advection = 0"
   ]
  }
 ],
 "metadata": {
  "kernelspec": {
   "display_name": "Python 3",
   "language": "python",
   "name": "python3"
  },
  "language_info": {
   "codemirror_mode": {
    "name": "ipython",
    "version": 3
   },
   "file_extension": ".py",
   "mimetype": "text/x-python",
   "name": "python",
   "nbconvert_exporter": "python",
   "pygments_lexer": "ipython3",
   "version": "3.6.7"
  }
 },
 "nbformat": 4,
 "nbformat_minor": 2
}
