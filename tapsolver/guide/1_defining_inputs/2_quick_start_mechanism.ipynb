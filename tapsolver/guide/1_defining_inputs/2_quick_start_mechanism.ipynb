{
 "cells": [
  {
   "cell_type": "markdown",
   "metadata": {},
   "source": [
    "# Quick Definition of the TAP Mechanism"
   ]
  },
  {
   "cell_type": "markdown",
   "metadata": {},
   "source": [
    "Quickly defining a reaction mechanism follows a similar set of code as that of the reactor. First, the presently defined set of mechanisms available within TAPsolver can be shown with: "
   ]
  },
  {
   "cell_type": "code",
   "execution_count": 1,
   "metadata": {},
   "outputs": [
    {
     "ename": "ModuleNotFoundError",
     "evalue": "No module named 'TAPsolver'",
     "output_type": "error",
     "traceback": [
      "\u001b[0;31m---------------------------------------------------------------------------\u001b[0m",
      "\u001b[0;31mModuleNotFoundError\u001b[0m                       Traceback (most recent call last)",
      "\u001b[0;32m<ipython-input-1-103e26dca181>\u001b[0m in \u001b[0;36m<module>\u001b[0;34m()\u001b[0m\n\u001b[0;32m----> 1\u001b[0;31m \u001b[0;32mfrom\u001b[0m \u001b[0mTAPsolver\u001b[0m \u001b[0;32mimport\u001b[0m \u001b[0;34m*\u001b[0m\u001b[0;34m\u001b[0m\u001b[0;34m\u001b[0m\u001b[0m\n\u001b[0m\u001b[1;32m      2\u001b[0m \u001b[0;34m\u001b[0m\u001b[0m\n\u001b[1;32m      3\u001b[0m \u001b[0mexamples\u001b[0m\u001b[0;34m(\u001b[0m\u001b[0;34m)\u001b[0m\u001b[0;34m\u001b[0m\u001b[0;34m\u001b[0m\u001b[0m\n",
      "\u001b[0;31mModuleNotFoundError\u001b[0m: No module named 'TAPsolver'"
     ]
    }
   ],
   "source": [
    "from TAPsolver import *\n",
    "\n",
    "examples()"
   ]
  },
  {
   "cell_type": "markdown",
   "metadata": {},
   "source": [
    "Upon identifying the mechanism you are interested in, it can be loaded with the command:"
   ]
  },
  {
   "cell_type": "code",
   "execution_count": null,
   "metadata": {
    "collapsed": true
   },
   "outputs": [],
   "source": [
    "mechanism = load_example('series_1.obj')"
   ]
  },
  {
   "cell_type": "markdown",
   "metadata": {},
   "source": [
    "To display the current elementary processes and the associated kinetic parameters, the following command can be used:"
   ]
  },
  {
   "cell_type": "code",
   "execution_count": null,
   "metadata": {
    "collapsed": true
   },
   "outputs": [],
   "source": [
    "display_elementary_processes(mechanism)"
   ]
  },
  {
   "cell_type": "markdown",
   "metadata": {},
   "source": [
    "To adjust the value of the kinetic parameters, use the commands:"
   ]
  },
  {
   "cell_type": "code",
   "execution_count": null,
   "metadata": {
    "collapsed": true
   },
   "outputs": [],
   "source": [
    "# Change the forward kinetic parameter value for elementary process 0\n",
    "mechanism.elementary_processes[0].forward.k['value'] = 2\n",
    "mechanism.elementary_processes[0].backward.k['value'] = 2\n",
    "\n",
    "# Change the forward kinetic parameter value for elementary process 1\n",
    "mechanism.elementary_processes[1].forward.k['value'] = 2\n",
    "mechanism.elementary_processes[1].backward.k['value'] = 2"
   ]
  },
  {
   "cell_type": "markdown",
   "metadata": {},
   "source": [
    "Where 'elementary_processes' is a dictionary of the elementary processes in the mechanism. Here, we are adjusting the value of the rate constant to 2 for the forward and backward processes in the system. If we wanted to specify the value of other kinetic information, we change their values in a similar way: "
   ]
  },
  {
   "cell_type": "code",
   "execution_count": null,
   "metadata": {
    "collapsed": true
   },
   "outputs": [],
   "source": [
    "# If the pre-exponential and activation energy are used to define the kinetic parameters\n",
    "mechanism.elementary_processes[0].forward.Ao['value'] = 2\n",
    "mechanism.elementary_processes[0].forward.Ea['value'] = 2\n",
    "\n",
    "# If the free enegy of activation and reaction are used to define the kinetic parameters\n",
    "mechanism.elementary_processes[0].forward.Ga['value'] = 2\n",
    "mechanism.elementary_processes[0].forward.dG['value'] = 2"
   ]
  },
  {
   "cell_type": "markdown",
   "metadata": {},
   "source": [
    "For the inverse problem, controling which parameters need to be fitted and which need to be fixed is useful. Adjusting this value can be accomplished with:"
   ]
  },
  {
   "cell_type": "code",
   "execution_count": null,
   "metadata": {
    "collapsed": true
   },
   "outputs": [],
   "source": [
    "# If parameter is to be fixed\n",
    "mechanism.elementary_processes[0].forward.k['fd'] = 'fixed'\n",
    "# If parameter is to be fitted\n",
    "mechanism.elementary_processes[0].forward.k['fd'] = 'dynamic'"
   ]
  },
  {
   "cell_type": "markdown",
   "metadata": {},
   "source": [
    "Last, the default set of parameters to use for each process can be specified with:"
   ]
  },
  {
   "cell_type": "code",
   "execution_count": null,
   "metadata": {
    "collapsed": true
   },
   "outputs": [],
   "source": [
    "# For rate constant alone\n",
    "mechanism.elementary_processes[0].forward.use = 'k'\n",
    "# For activation\n",
    "mechanism.elementary_processes[0].forward.use = 'a'\n",
    "# For free energy\n",
    "mechanism.elementary_processes[0].forward.use = 'g'"
   ]
  }
 ],
 "metadata": {
  "kernelspec": {
   "display_name": "Python 3",
   "language": "python",
   "name": "python3"
  },
  "language_info": {
   "codemirror_mode": {
    "name": "ipython",
    "version": 3
   },
   "file_extension": ".py",
   "mimetype": "text/x-python",
   "name": "python",
   "nbconvert_exporter": "python",
   "pygments_lexer": "ipython3",
   "version": "3.6.7"
  }
 },
 "nbformat": 4,
 "nbformat_minor": 2
}
